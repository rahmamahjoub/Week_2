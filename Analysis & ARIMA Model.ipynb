{
 "cells": [
  {
   "cell_type": "markdown",
   "metadata": {},
   "source": [
    "<h1 align='center' style='color:black'> Yellow and Pink Cab </h1>"
   ]
  },
  {
   "cell_type": "markdown",
   "metadata": {},
   "source": [
    "## Importing The Libraries"
   ]
  },
  {
   "cell_type": "code",
   "execution_count": 1,
   "metadata": {},
   "outputs": [
    {
     "data": {
      "text/html": [
       "        <script type=\"text/javascript\">\n",
       "        window.PlotlyConfig = {MathJaxConfig: 'local'};\n",
       "        if (window.MathJax) {MathJax.Hub.Config({SVG: {font: \"STIX-Web\"}});}\n",
       "        if (typeof require !== 'undefined') {\n",
       "        require.undef(\"plotly\");\n",
       "        requirejs.config({\n",
       "            paths: {\n",
       "                'plotly': ['https://cdn.plot.ly/plotly-latest.min']\n",
       "            }\n",
       "        });\n",
       "        require(['plotly'], function(Plotly) {\n",
       "            window._Plotly = Plotly;\n",
       "        });\n",
       "        }\n",
       "        </script>\n",
       "        "
      ]
     },
     "metadata": {},
     "output_type": "display_data"
    }
   ],
   "source": [
    "import pandas as pd\n",
    "import numpy as np\n",
    "import seaborn as sns\n",
    "import matplotlib.pyplot as plt\n",
    "from collections import Counter\n",
    "from statsmodels.tsa.stattools import adfuller\n",
    "import datetime as dt\n",
    "from datetime import datetime\n",
    "import cufflinks as cf\n",
    "from pandas import to_datetime\n",
    "from plotly.offline import download_plotlyjs, init_notebook_mode, plot, iplot\n",
    "%matplotlib inline"
   ]
  },
  {
   "cell_type": "markdown",
   "metadata": {},
   "source": [
    "## Loading The Data"
   ]
  },
  {
   "cell_type": "code",
   "execution_count": 2,
   "metadata": {},
   "outputs": [
    {
     "data": {
      "text/html": [
       "<div>\n",
       "<style scoped>\n",
       "    .dataframe tbody tr th:only-of-type {\n",
       "        vertical-align: middle;\n",
       "    }\n",
       "\n",
       "    .dataframe tbody tr th {\n",
       "        vertical-align: top;\n",
       "    }\n",
       "\n",
       "    .dataframe thead th {\n",
       "        text-align: right;\n",
       "    }\n",
       "</style>\n",
       "<table border=\"1\" class=\"dataframe\">\n",
       "  <thead>\n",
       "    <tr style=\"text-align: right;\">\n",
       "      <th></th>\n",
       "      <th>Transaction ID</th>\n",
       "      <th>Date of Travel</th>\n",
       "      <th>Company</th>\n",
       "      <th>City</th>\n",
       "      <th>KM Travelled</th>\n",
       "      <th>Price Charged</th>\n",
       "      <th>Cost of Trip</th>\n",
       "    </tr>\n",
       "  </thead>\n",
       "  <tbody>\n",
       "    <tr>\n",
       "      <th>0</th>\n",
       "      <td>10000011</td>\n",
       "      <td>2016-01-08</td>\n",
       "      <td>Pink Cab</td>\n",
       "      <td>ATLANTA GA</td>\n",
       "      <td>30.45</td>\n",
       "      <td>370.95</td>\n",
       "      <td>313.635</td>\n",
       "    </tr>\n",
       "    <tr>\n",
       "      <th>1</th>\n",
       "      <td>10000012</td>\n",
       "      <td>2016-01-06</td>\n",
       "      <td>Pink Cab</td>\n",
       "      <td>ATLANTA GA</td>\n",
       "      <td>28.62</td>\n",
       "      <td>358.52</td>\n",
       "      <td>334.854</td>\n",
       "    </tr>\n",
       "    <tr>\n",
       "      <th>2</th>\n",
       "      <td>10000013</td>\n",
       "      <td>2016-01-02</td>\n",
       "      <td>Pink Cab</td>\n",
       "      <td>ATLANTA GA</td>\n",
       "      <td>9.04</td>\n",
       "      <td>125.20</td>\n",
       "      <td>97.632</td>\n",
       "    </tr>\n",
       "    <tr>\n",
       "      <th>3</th>\n",
       "      <td>10000014</td>\n",
       "      <td>2016-01-07</td>\n",
       "      <td>Pink Cab</td>\n",
       "      <td>ATLANTA GA</td>\n",
       "      <td>33.17</td>\n",
       "      <td>377.40</td>\n",
       "      <td>351.602</td>\n",
       "    </tr>\n",
       "    <tr>\n",
       "      <th>4</th>\n",
       "      <td>10000015</td>\n",
       "      <td>2016-01-03</td>\n",
       "      <td>Pink Cab</td>\n",
       "      <td>ATLANTA GA</td>\n",
       "      <td>8.73</td>\n",
       "      <td>114.62</td>\n",
       "      <td>97.776</td>\n",
       "    </tr>\n",
       "  </tbody>\n",
       "</table>\n",
       "</div>"
      ],
      "text/plain": [
       "   Transaction ID Date of Travel   Company        City  KM Travelled  \\\n",
       "0        10000011     2016-01-08  Pink Cab  ATLANTA GA         30.45   \n",
       "1        10000012     2016-01-06  Pink Cab  ATLANTA GA         28.62   \n",
       "2        10000013     2016-01-02  Pink Cab  ATLANTA GA          9.04   \n",
       "3        10000014     2016-01-07  Pink Cab  ATLANTA GA         33.17   \n",
       "4        10000015     2016-01-03  Pink Cab  ATLANTA GA          8.73   \n",
       "\n",
       "   Price Charged  Cost of Trip  \n",
       "0         370.95       313.635  \n",
       "1         358.52       334.854  \n",
       "2         125.20        97.632  \n",
       "3         377.40       351.602  \n",
       "4         114.62        97.776  "
      ]
     },
     "execution_count": 2,
     "metadata": {},
     "output_type": "execute_result"
    }
   ],
   "source": [
    "Cab_Data = pd.read_excel('cab_data.xlsx')\n",
    "# Data was put into DataFrame\n",
    "df1= pd.DataFrame(Cab_Data)\n",
    "# Printing the head\n",
    "df1.head()"
   ]
  },
  {
   "cell_type": "code",
   "execution_count": 3,
   "metadata": {},
   "outputs": [
    {
     "data": {
      "text/html": [
       "<div>\n",
       "<style scoped>\n",
       "    .dataframe tbody tr th:only-of-type {\n",
       "        vertical-align: middle;\n",
       "    }\n",
       "\n",
       "    .dataframe tbody tr th {\n",
       "        vertical-align: top;\n",
       "    }\n",
       "\n",
       "    .dataframe thead th {\n",
       "        text-align: right;\n",
       "    }\n",
       "</style>\n",
       "<table border=\"1\" class=\"dataframe\">\n",
       "  <thead>\n",
       "    <tr style=\"text-align: right;\">\n",
       "      <th></th>\n",
       "      <th>City</th>\n",
       "      <th>Population</th>\n",
       "      <th>Users</th>\n",
       "    </tr>\n",
       "  </thead>\n",
       "  <tbody>\n",
       "    <tr>\n",
       "      <th>0</th>\n",
       "      <td>NEW YORK NY</td>\n",
       "      <td>8,405,837</td>\n",
       "      <td>302,149</td>\n",
       "    </tr>\n",
       "    <tr>\n",
       "      <th>1</th>\n",
       "      <td>CHICAGO IL</td>\n",
       "      <td>1,955,130</td>\n",
       "      <td>164,468</td>\n",
       "    </tr>\n",
       "    <tr>\n",
       "      <th>2</th>\n",
       "      <td>LOS ANGELES CA</td>\n",
       "      <td>1,595,037</td>\n",
       "      <td>144,132</td>\n",
       "    </tr>\n",
       "    <tr>\n",
       "      <th>3</th>\n",
       "      <td>MIAMI FL</td>\n",
       "      <td>1,339,155</td>\n",
       "      <td>17,675</td>\n",
       "    </tr>\n",
       "    <tr>\n",
       "      <th>4</th>\n",
       "      <td>SILICON VALLEY</td>\n",
       "      <td>1,177,609</td>\n",
       "      <td>27,247</td>\n",
       "    </tr>\n",
       "  </tbody>\n",
       "</table>\n",
       "</div>"
      ],
      "text/plain": [
       "             City   Population      Users\n",
       "0     NEW YORK NY   8,405,837    302,149 \n",
       "1      CHICAGO IL   1,955,130    164,468 \n",
       "2  LOS ANGELES CA   1,595,037    144,132 \n",
       "3        MIAMI FL   1,339,155     17,675 \n",
       "4  SILICON VALLEY   1,177,609     27,247 "
      ]
     },
     "execution_count": 3,
     "metadata": {},
     "output_type": "execute_result"
    }
   ],
   "source": [
    "City_Data = pd.read_csv('City.csv')\n",
    "# Data was put into DataFrame\n",
    "df2= pd.DataFrame(City_Data)\n",
    "# Printing the head\n",
    "df2.head()"
   ]
  },
  {
   "cell_type": "code",
   "execution_count": 4,
   "metadata": {},
   "outputs": [
    {
     "data": {
      "text/html": [
       "<div>\n",
       "<style scoped>\n",
       "    .dataframe tbody tr th:only-of-type {\n",
       "        vertical-align: middle;\n",
       "    }\n",
       "\n",
       "    .dataframe tbody tr th {\n",
       "        vertical-align: top;\n",
       "    }\n",
       "\n",
       "    .dataframe thead th {\n",
       "        text-align: right;\n",
       "    }\n",
       "</style>\n",
       "<table border=\"1\" class=\"dataframe\">\n",
       "  <thead>\n",
       "    <tr style=\"text-align: right;\">\n",
       "      <th></th>\n",
       "      <th>Customer ID</th>\n",
       "      <th>Gender</th>\n",
       "      <th>Age</th>\n",
       "      <th>Income (USD/Month)</th>\n",
       "    </tr>\n",
       "  </thead>\n",
       "  <tbody>\n",
       "    <tr>\n",
       "      <th>0</th>\n",
       "      <td>29290</td>\n",
       "      <td>Male</td>\n",
       "      <td>28</td>\n",
       "      <td>10813</td>\n",
       "    </tr>\n",
       "    <tr>\n",
       "      <th>1</th>\n",
       "      <td>27703</td>\n",
       "      <td>Male</td>\n",
       "      <td>27</td>\n",
       "      <td>9237</td>\n",
       "    </tr>\n",
       "    <tr>\n",
       "      <th>2</th>\n",
       "      <td>28712</td>\n",
       "      <td>Male</td>\n",
       "      <td>53</td>\n",
       "      <td>11242</td>\n",
       "    </tr>\n",
       "    <tr>\n",
       "      <th>3</th>\n",
       "      <td>28020</td>\n",
       "      <td>Male</td>\n",
       "      <td>23</td>\n",
       "      <td>23327</td>\n",
       "    </tr>\n",
       "    <tr>\n",
       "      <th>4</th>\n",
       "      <td>27182</td>\n",
       "      <td>Male</td>\n",
       "      <td>33</td>\n",
       "      <td>8536</td>\n",
       "    </tr>\n",
       "  </tbody>\n",
       "</table>\n",
       "</div>"
      ],
      "text/plain": [
       "   Customer ID Gender  Age  Income (USD/Month)\n",
       "0        29290   Male   28               10813\n",
       "1        27703   Male   27                9237\n",
       "2        28712   Male   53               11242\n",
       "3        28020   Male   23               23327\n",
       "4        27182   Male   33                8536"
      ]
     },
     "execution_count": 4,
     "metadata": {},
     "output_type": "execute_result"
    }
   ],
   "source": [
    "Customer_ID_Data = pd.read_csv('Customer_ID.csv')\n",
    "# Data was put into DataFrame\n",
    "df3= pd.DataFrame(Customer_ID_Data)\n",
    "# Printing the head\n",
    "df3.head()"
   ]
  },
  {
   "cell_type": "code",
   "execution_count": 5,
   "metadata": {},
   "outputs": [
    {
     "data": {
      "text/html": [
       "<div>\n",
       "<style scoped>\n",
       "    .dataframe tbody tr th:only-of-type {\n",
       "        vertical-align: middle;\n",
       "    }\n",
       "\n",
       "    .dataframe tbody tr th {\n",
       "        vertical-align: top;\n",
       "    }\n",
       "\n",
       "    .dataframe thead th {\n",
       "        text-align: right;\n",
       "    }\n",
       "</style>\n",
       "<table border=\"1\" class=\"dataframe\">\n",
       "  <thead>\n",
       "    <tr style=\"text-align: right;\">\n",
       "      <th></th>\n",
       "      <th>Transaction ID</th>\n",
       "      <th>Customer ID</th>\n",
       "      <th>Payment_Mode</th>\n",
       "    </tr>\n",
       "  </thead>\n",
       "  <tbody>\n",
       "    <tr>\n",
       "      <th>0</th>\n",
       "      <td>10000011</td>\n",
       "      <td>29290</td>\n",
       "      <td>Card</td>\n",
       "    </tr>\n",
       "    <tr>\n",
       "      <th>1</th>\n",
       "      <td>10000012</td>\n",
       "      <td>27703</td>\n",
       "      <td>Card</td>\n",
       "    </tr>\n",
       "    <tr>\n",
       "      <th>2</th>\n",
       "      <td>10000013</td>\n",
       "      <td>28712</td>\n",
       "      <td>Cash</td>\n",
       "    </tr>\n",
       "    <tr>\n",
       "      <th>3</th>\n",
       "      <td>10000014</td>\n",
       "      <td>28020</td>\n",
       "      <td>Cash</td>\n",
       "    </tr>\n",
       "    <tr>\n",
       "      <th>4</th>\n",
       "      <td>10000015</td>\n",
       "      <td>27182</td>\n",
       "      <td>Card</td>\n",
       "    </tr>\n",
       "  </tbody>\n",
       "</table>\n",
       "</div>"
      ],
      "text/plain": [
       "   Transaction ID  Customer ID Payment_Mode\n",
       "0        10000011        29290         Card\n",
       "1        10000012        27703         Card\n",
       "2        10000013        28712         Cash\n",
       "3        10000014        28020         Cash\n",
       "4        10000015        27182         Card"
      ]
     },
     "execution_count": 5,
     "metadata": {},
     "output_type": "execute_result"
    }
   ],
   "source": [
    "Transaction_ID_Data = pd.read_csv('Transaction_ID.csv')\n",
    "# Data was put into DataFrame\n",
    "df4= pd.DataFrame(Transaction_ID_Data)\n",
    "# Printing the head\n",
    "df4.head()"
   ]
  },
  {
   "cell_type": "markdown",
   "metadata": {},
   "source": [
    "## EDA (Exploratory Data Analysis)"
   ]
  },
  {
   "cell_type": "markdown",
   "metadata": {},
   "source": [
    "### 1. Printing the shape"
   ]
  },
  {
   "cell_type": "code",
   "execution_count": 6,
   "metadata": {},
   "outputs": [
    {
     "name": "stdout",
     "output_type": "stream",
     "text": [
      "Cab_Data (359392, 7)\n",
      "City_Data (20, 3)\n",
      "Customer_ID_Data (49171, 4)\n",
      "Transaction_ID_Data (440098, 3)\n"
     ]
    }
   ],
   "source": [
    "print (\"Cab_Data\",Cab_Data.shape)\n",
    "print (\"City_Data\",City_Data.shape)\n",
    "print (\"Customer_ID_Data\",Customer_ID_Data.shape)\n",
    "print (\"Transaction_ID_Data\",Transaction_ID_Data.shape)"
   ]
  },
  {
   "cell_type": "markdown",
   "metadata": {},
   "source": [
    "### 2. Looking for Missing Values"
   ]
  },
  {
   "cell_type": "code",
   "execution_count": 7,
   "metadata": {},
   "outputs": [
    {
     "data": {
      "text/plain": [
       "Transaction ID    0\n",
       "Date of Travel    0\n",
       "Company           0\n",
       "City              0\n",
       "KM Travelled      0\n",
       "Price Charged     0\n",
       "Cost of Trip      0\n",
       "dtype: int64"
      ]
     },
     "execution_count": 7,
     "metadata": {},
     "output_type": "execute_result"
    }
   ],
   "source": [
    "Cab_Data.isnull().sum()"
   ]
  },
  {
   "cell_type": "code",
   "execution_count": 8,
   "metadata": {},
   "outputs": [
    {
     "data": {
      "text/plain": [
       "City          0\n",
       "Population    0\n",
       "Users         0\n",
       "dtype: int64"
      ]
     },
     "execution_count": 8,
     "metadata": {},
     "output_type": "execute_result"
    }
   ],
   "source": [
    "City_Data .isnull().sum()"
   ]
  },
  {
   "cell_type": "code",
   "execution_count": 9,
   "metadata": {},
   "outputs": [
    {
     "data": {
      "text/plain": [
       "Customer ID           0\n",
       "Gender                0\n",
       "Age                   0\n",
       "Income (USD/Month)    0\n",
       "dtype: int64"
      ]
     },
     "execution_count": 9,
     "metadata": {},
     "output_type": "execute_result"
    }
   ],
   "source": [
    "Customer_ID_Data .isnull().sum()"
   ]
  },
  {
   "cell_type": "code",
   "execution_count": 10,
   "metadata": {},
   "outputs": [
    {
     "data": {
      "text/plain": [
       "Transaction ID    0\n",
       "Customer ID       0\n",
       "Payment_Mode      0\n",
       "dtype: int64"
      ]
     },
     "execution_count": 10,
     "metadata": {},
     "output_type": "execute_result"
    }
   ],
   "source": [
    "Transaction_ID_Data .isnull().sum()"
   ]
  },
  {
   "cell_type": "markdown",
   "metadata": {},
   "source": [
    "### 3. Printing Data Type and Capacity of The Data on The Memory"
   ]
  },
  {
   "cell_type": "code",
   "execution_count": 11,
   "metadata": {},
   "outputs": [
    {
     "name": "stdout",
     "output_type": "stream",
     "text": [
      "<class 'pandas.core.frame.DataFrame'>\n",
      "RangeIndex: 359392 entries, 0 to 359391\n",
      "Data columns (total 7 columns):\n",
      " #   Column          Non-Null Count   Dtype         \n",
      "---  ------          --------------   -----         \n",
      " 0   Transaction ID  359392 non-null  int64         \n",
      " 1   Date of Travel  359392 non-null  datetime64[ns]\n",
      " 2   Company         359392 non-null  object        \n",
      " 3   City            359392 non-null  object        \n",
      " 4   KM Travelled    359392 non-null  float64       \n",
      " 5   Price Charged   359392 non-null  float64       \n",
      " 6   Cost of Trip    359392 non-null  float64       \n",
      "dtypes: datetime64[ns](1), float64(3), int64(1), object(2)\n",
      "memory usage: 19.2+ MB\n"
     ]
    }
   ],
   "source": [
    "Cab_Data.info()"
   ]
  },
  {
   "cell_type": "code",
   "execution_count": 12,
   "metadata": {},
   "outputs": [
    {
     "name": "stdout",
     "output_type": "stream",
     "text": [
      "<class 'pandas.core.frame.DataFrame'>\n",
      "RangeIndex: 20 entries, 0 to 19\n",
      "Data columns (total 3 columns):\n",
      " #   Column      Non-Null Count  Dtype \n",
      "---  ------      --------------  ----- \n",
      " 0   City        20 non-null     object\n",
      " 1   Population  20 non-null     object\n",
      " 2   Users       20 non-null     object\n",
      "dtypes: object(3)\n",
      "memory usage: 608.0+ bytes\n"
     ]
    }
   ],
   "source": [
    "City_Data .info()"
   ]
  },
  {
   "cell_type": "code",
   "execution_count": 13,
   "metadata": {},
   "outputs": [
    {
     "name": "stdout",
     "output_type": "stream",
     "text": [
      "<class 'pandas.core.frame.DataFrame'>\n",
      "RangeIndex: 49171 entries, 0 to 49170\n",
      "Data columns (total 4 columns):\n",
      " #   Column              Non-Null Count  Dtype \n",
      "---  ------              --------------  ----- \n",
      " 0   Customer ID         49171 non-null  int64 \n",
      " 1   Gender              49171 non-null  object\n",
      " 2   Age                 49171 non-null  int64 \n",
      " 3   Income (USD/Month)  49171 non-null  int64 \n",
      "dtypes: int64(3), object(1)\n",
      "memory usage: 1.5+ MB\n"
     ]
    }
   ],
   "source": [
    "Customer_ID_Data.info()"
   ]
  },
  {
   "cell_type": "code",
   "execution_count": 14,
   "metadata": {},
   "outputs": [
    {
     "name": "stdout",
     "output_type": "stream",
     "text": [
      "<class 'pandas.core.frame.DataFrame'>\n",
      "RangeIndex: 440098 entries, 0 to 440097\n",
      "Data columns (total 3 columns):\n",
      " #   Column          Non-Null Count   Dtype \n",
      "---  ------          --------------   ----- \n",
      " 0   Transaction ID  440098 non-null  int64 \n",
      " 1   Customer ID     440098 non-null  int64 \n",
      " 2   Payment_Mode    440098 non-null  object\n",
      "dtypes: int64(2), object(1)\n",
      "memory usage: 10.1+ MB\n"
     ]
    }
   ],
   "source": [
    "Transaction_ID_Data.info()"
   ]
  },
  {
   "cell_type": "markdown",
   "metadata": {},
   "source": [
    "## Creating Master Data"
   ]
  },
  {
   "cell_type": "markdown",
   "metadata": {},
   "source": [
    "### 1. Merge Cab_Data & Transaction_ID_Data"
   ]
  },
  {
   "cell_type": "code",
   "execution_count": 15,
   "metadata": {},
   "outputs": [
    {
     "data": {
      "text/html": [
       "<div>\n",
       "<style scoped>\n",
       "    .dataframe tbody tr th:only-of-type {\n",
       "        vertical-align: middle;\n",
       "    }\n",
       "\n",
       "    .dataframe tbody tr th {\n",
       "        vertical-align: top;\n",
       "    }\n",
       "\n",
       "    .dataframe thead th {\n",
       "        text-align: right;\n",
       "    }\n",
       "</style>\n",
       "<table border=\"1\" class=\"dataframe\">\n",
       "  <thead>\n",
       "    <tr style=\"text-align: right;\">\n",
       "      <th></th>\n",
       "      <th>Date of Travel</th>\n",
       "      <th>Company</th>\n",
       "      <th>City</th>\n",
       "      <th>KM Travelled</th>\n",
       "      <th>Price Charged</th>\n",
       "      <th>Cost of Trip</th>\n",
       "      <th>Customer ID</th>\n",
       "      <th>Payment_Mode</th>\n",
       "    </tr>\n",
       "    <tr>\n",
       "      <th>Transaction ID</th>\n",
       "      <th></th>\n",
       "      <th></th>\n",
       "      <th></th>\n",
       "      <th></th>\n",
       "      <th></th>\n",
       "      <th></th>\n",
       "      <th></th>\n",
       "      <th></th>\n",
       "    </tr>\n",
       "  </thead>\n",
       "  <tbody>\n",
       "    <tr>\n",
       "      <th>10000011</th>\n",
       "      <td>2016-01-08</td>\n",
       "      <td>Pink Cab</td>\n",
       "      <td>ATLANTA GA</td>\n",
       "      <td>30.45</td>\n",
       "      <td>370.95</td>\n",
       "      <td>313.635</td>\n",
       "      <td>29290</td>\n",
       "      <td>Card</td>\n",
       "    </tr>\n",
       "    <tr>\n",
       "      <th>10000012</th>\n",
       "      <td>2016-01-06</td>\n",
       "      <td>Pink Cab</td>\n",
       "      <td>ATLANTA GA</td>\n",
       "      <td>28.62</td>\n",
       "      <td>358.52</td>\n",
       "      <td>334.854</td>\n",
       "      <td>27703</td>\n",
       "      <td>Card</td>\n",
       "    </tr>\n",
       "  </tbody>\n",
       "</table>\n",
       "</div>"
      ],
      "text/plain": [
       "               Date of Travel   Company        City  KM Travelled  \\\n",
       "Transaction ID                                                      \n",
       "10000011           2016-01-08  Pink Cab  ATLANTA GA         30.45   \n",
       "10000012           2016-01-06  Pink Cab  ATLANTA GA         28.62   \n",
       "\n",
       "                Price Charged  Cost of Trip  Customer ID Payment_Mode  \n",
       "Transaction ID                                                         \n",
       "10000011               370.95       313.635        29290         Card  \n",
       "10000012               358.52       334.854        27703         Card  "
      ]
     },
     "execution_count": 15,
     "metadata": {},
     "output_type": "execute_result"
    }
   ],
   "source": [
    "# Join with Transaction ID\n",
    "left = Cab_Data.set_index(['Transaction ID'])\n",
    "right = Transaction_ID_Data.set_index(['Transaction ID'])\n",
    "data = left.join(right)\n",
    "data.head(2)"
   ]
  },
  {
   "cell_type": "markdown",
   "metadata": {},
   "source": [
    "### 2. Merge Step(1) & Customer_ID_Data"
   ]
  },
  {
   "cell_type": "code",
   "execution_count": 16,
   "metadata": {},
   "outputs": [
    {
     "data": {
      "text/html": [
       "<div>\n",
       "<style scoped>\n",
       "    .dataframe tbody tr th:only-of-type {\n",
       "        vertical-align: middle;\n",
       "    }\n",
       "\n",
       "    .dataframe tbody tr th {\n",
       "        vertical-align: top;\n",
       "    }\n",
       "\n",
       "    .dataframe thead th {\n",
       "        text-align: right;\n",
       "    }\n",
       "</style>\n",
       "<table border=\"1\" class=\"dataframe\">\n",
       "  <thead>\n",
       "    <tr style=\"text-align: right;\">\n",
       "      <th></th>\n",
       "      <th></th>\n",
       "      <th>Date of Travel</th>\n",
       "      <th>Company</th>\n",
       "      <th>City</th>\n",
       "      <th>KM Travelled</th>\n",
       "      <th>Price Charged</th>\n",
       "      <th>Cost of Trip</th>\n",
       "      <th>Payment_Mode</th>\n",
       "      <th>Gender</th>\n",
       "      <th>Age</th>\n",
       "      <th>Income (USD/Month)</th>\n",
       "    </tr>\n",
       "    <tr>\n",
       "      <th>Transaction ID</th>\n",
       "      <th>Customer ID</th>\n",
       "      <th></th>\n",
       "      <th></th>\n",
       "      <th></th>\n",
       "      <th></th>\n",
       "      <th></th>\n",
       "      <th></th>\n",
       "      <th></th>\n",
       "      <th></th>\n",
       "      <th></th>\n",
       "      <th></th>\n",
       "    </tr>\n",
       "  </thead>\n",
       "  <tbody>\n",
       "    <tr>\n",
       "      <th>10000011</th>\n",
       "      <th>29290</th>\n",
       "      <td>2016-01-08</td>\n",
       "      <td>Pink Cab</td>\n",
       "      <td>ATLANTA GA</td>\n",
       "      <td>30.45</td>\n",
       "      <td>370.95</td>\n",
       "      <td>313.635</td>\n",
       "      <td>Card</td>\n",
       "      <td>Male</td>\n",
       "      <td>28</td>\n",
       "      <td>10813</td>\n",
       "    </tr>\n",
       "    <tr>\n",
       "      <th>10000012</th>\n",
       "      <th>27703</th>\n",
       "      <td>2016-01-06</td>\n",
       "      <td>Pink Cab</td>\n",
       "      <td>ATLANTA GA</td>\n",
       "      <td>28.62</td>\n",
       "      <td>358.52</td>\n",
       "      <td>334.854</td>\n",
       "      <td>Card</td>\n",
       "      <td>Male</td>\n",
       "      <td>27</td>\n",
       "      <td>9237</td>\n",
       "    </tr>\n",
       "  </tbody>\n",
       "</table>\n",
       "</div>"
      ],
      "text/plain": [
       "                           Date of Travel   Company        City  KM Travelled  \\\n",
       "Transaction ID Customer ID                                                      \n",
       "10000011       29290           2016-01-08  Pink Cab  ATLANTA GA         30.45   \n",
       "10000012       27703           2016-01-06  Pink Cab  ATLANTA GA         28.62   \n",
       "\n",
       "                            Price Charged  Cost of Trip Payment_Mode Gender  \\\n",
       "Transaction ID Customer ID                                                    \n",
       "10000011       29290               370.95       313.635         Card   Male   \n",
       "10000012       27703               358.52       334.854         Card   Male   \n",
       "\n",
       "                            Age  Income (USD/Month)  \n",
       "Transaction ID Customer ID                           \n",
       "10000011       29290         28               10813  \n",
       "10000012       27703         27                9237  "
      ]
     },
     "execution_count": 16,
     "metadata": {},
     "output_type": "execute_result"
    }
   ],
   "source": [
    "# Join with Customer ID\n",
    "left = data.set_index([data.index,'Customer ID'])\n",
    "right = Customer_ID_Data.set_index(['Customer ID'])\n",
    "data = left.join(right)\n",
    "data.head(2)"
   ]
  },
  {
   "cell_type": "markdown",
   "metadata": {},
   "source": [
    "### 3. Merge Step(2) & City_Data"
   ]
  },
  {
   "cell_type": "code",
   "execution_count": 17,
   "metadata": {},
   "outputs": [
    {
     "data": {
      "text/html": [
       "<div>\n",
       "<style scoped>\n",
       "    .dataframe tbody tr th:only-of-type {\n",
       "        vertical-align: middle;\n",
       "    }\n",
       "\n",
       "    .dataframe tbody tr th {\n",
       "        vertical-align: top;\n",
       "    }\n",
       "\n",
       "    .dataframe thead th {\n",
       "        text-align: right;\n",
       "    }\n",
       "</style>\n",
       "<table border=\"1\" class=\"dataframe\">\n",
       "  <thead>\n",
       "    <tr style=\"text-align: right;\">\n",
       "      <th></th>\n",
       "      <th></th>\n",
       "      <th></th>\n",
       "      <th>Date of Travel</th>\n",
       "      <th>Company</th>\n",
       "      <th>KM Travelled</th>\n",
       "      <th>Price Charged</th>\n",
       "      <th>Cost of Trip</th>\n",
       "      <th>Payment_Mode</th>\n",
       "      <th>Gender</th>\n",
       "      <th>Age</th>\n",
       "      <th>Income (USD/Month)</th>\n",
       "      <th>Population</th>\n",
       "      <th>Users</th>\n",
       "    </tr>\n",
       "    <tr>\n",
       "      <th>Transaction ID</th>\n",
       "      <th>Customer ID</th>\n",
       "      <th>City</th>\n",
       "      <th></th>\n",
       "      <th></th>\n",
       "      <th></th>\n",
       "      <th></th>\n",
       "      <th></th>\n",
       "      <th></th>\n",
       "      <th></th>\n",
       "      <th></th>\n",
       "      <th></th>\n",
       "      <th></th>\n",
       "      <th></th>\n",
       "    </tr>\n",
       "  </thead>\n",
       "  <tbody>\n",
       "    <tr>\n",
       "      <th>10000011</th>\n",
       "      <th>29290</th>\n",
       "      <th>ATLANTA GA</th>\n",
       "      <td>2016-01-08</td>\n",
       "      <td>Pink Cab</td>\n",
       "      <td>30.45</td>\n",
       "      <td>370.95</td>\n",
       "      <td>313.635</td>\n",
       "      <td>Card</td>\n",
       "      <td>Male</td>\n",
       "      <td>28</td>\n",
       "      <td>10813</td>\n",
       "      <td>814,885</td>\n",
       "      <td>24,701</td>\n",
       "    </tr>\n",
       "    <tr>\n",
       "      <th>10000012</th>\n",
       "      <th>27703</th>\n",
       "      <th>ATLANTA GA</th>\n",
       "      <td>2016-01-06</td>\n",
       "      <td>Pink Cab</td>\n",
       "      <td>28.62</td>\n",
       "      <td>358.52</td>\n",
       "      <td>334.854</td>\n",
       "      <td>Card</td>\n",
       "      <td>Male</td>\n",
       "      <td>27</td>\n",
       "      <td>9237</td>\n",
       "      <td>814,885</td>\n",
       "      <td>24,701</td>\n",
       "    </tr>\n",
       "  </tbody>\n",
       "</table>\n",
       "</div>"
      ],
      "text/plain": [
       "                                      Date of Travel   Company  KM Travelled  \\\n",
       "Transaction ID Customer ID City                                                \n",
       "10000011       29290       ATLANTA GA     2016-01-08  Pink Cab         30.45   \n",
       "10000012       27703       ATLANTA GA     2016-01-06  Pink Cab         28.62   \n",
       "\n",
       "                                       Price Charged  Cost of Trip  \\\n",
       "Transaction ID Customer ID City                                      \n",
       "10000011       29290       ATLANTA GA         370.95       313.635   \n",
       "10000012       27703       ATLANTA GA         358.52       334.854   \n",
       "\n",
       "                                      Payment_Mode Gender  Age  \\\n",
       "Transaction ID Customer ID City                                  \n",
       "10000011       29290       ATLANTA GA         Card   Male   28   \n",
       "10000012       27703       ATLANTA GA         Card   Male   27   \n",
       "\n",
       "                                       Income (USD/Month) Population     Users  \n",
       "Transaction ID Customer ID City                                                 \n",
       "10000011       29290       ATLANTA GA               10813   814,885    24,701   \n",
       "10000012       27703       ATLANTA GA                9237   814,885    24,701   "
      ]
     },
     "execution_count": 17,
     "metadata": {},
     "output_type": "execute_result"
    }
   ],
   "source": [
    "# Join with City\n",
    "left = data.set_index([data.index,'City'])\n",
    "right = City_Data.set_index(['City'])\n",
    "data = left.join(right)\n",
    "data.head(2)"
   ]
  },
  {
   "cell_type": "code",
   "execution_count": 18,
   "metadata": {},
   "outputs": [
    {
     "data": {
      "text/html": [
       "<div>\n",
       "<style scoped>\n",
       "    .dataframe tbody tr th:only-of-type {\n",
       "        vertical-align: middle;\n",
       "    }\n",
       "\n",
       "    .dataframe tbody tr th {\n",
       "        vertical-align: top;\n",
       "    }\n",
       "\n",
       "    .dataframe thead th {\n",
       "        text-align: right;\n",
       "    }\n",
       "</style>\n",
       "<table border=\"1\" class=\"dataframe\">\n",
       "  <thead>\n",
       "    <tr style=\"text-align: right;\">\n",
       "      <th></th>\n",
       "      <th>Transaction ID</th>\n",
       "      <th>Customer ID</th>\n",
       "      <th>City</th>\n",
       "      <th>Date of Travel</th>\n",
       "      <th>Company</th>\n",
       "      <th>KM Travelled</th>\n",
       "      <th>Price Charged</th>\n",
       "      <th>Cost of Trip</th>\n",
       "      <th>Payment_Mode</th>\n",
       "      <th>Gender</th>\n",
       "      <th>Age</th>\n",
       "      <th>Income (USD/Month)</th>\n",
       "      <th>Population</th>\n",
       "      <th>Users</th>\n",
       "    </tr>\n",
       "  </thead>\n",
       "  <tbody>\n",
       "    <tr>\n",
       "      <th>0</th>\n",
       "      <td>10000011</td>\n",
       "      <td>29290</td>\n",
       "      <td>ATLANTA GA</td>\n",
       "      <td>2016-01-08</td>\n",
       "      <td>Pink Cab</td>\n",
       "      <td>30.45</td>\n",
       "      <td>370.95</td>\n",
       "      <td>313.635</td>\n",
       "      <td>Card</td>\n",
       "      <td>Male</td>\n",
       "      <td>28</td>\n",
       "      <td>10813</td>\n",
       "      <td>814,885</td>\n",
       "      <td>24,701</td>\n",
       "    </tr>\n",
       "    <tr>\n",
       "      <th>1</th>\n",
       "      <td>10000012</td>\n",
       "      <td>27703</td>\n",
       "      <td>ATLANTA GA</td>\n",
       "      <td>2016-01-06</td>\n",
       "      <td>Pink Cab</td>\n",
       "      <td>28.62</td>\n",
       "      <td>358.52</td>\n",
       "      <td>334.854</td>\n",
       "      <td>Card</td>\n",
       "      <td>Male</td>\n",
       "      <td>27</td>\n",
       "      <td>9237</td>\n",
       "      <td>814,885</td>\n",
       "      <td>24,701</td>\n",
       "    </tr>\n",
       "  </tbody>\n",
       "</table>\n",
       "</div>"
      ],
      "text/plain": [
       "   Transaction ID  Customer ID        City Date of Travel   Company  \\\n",
       "0        10000011        29290  ATLANTA GA     2016-01-08  Pink Cab   \n",
       "1        10000012        27703  ATLANTA GA     2016-01-06  Pink Cab   \n",
       "\n",
       "   KM Travelled  Price Charged  Cost of Trip Payment_Mode Gender  Age  \\\n",
       "0         30.45         370.95       313.635         Card   Male   28   \n",
       "1         28.62         358.52       334.854         Card   Male   27   \n",
       "\n",
       "   Income (USD/Month) Population     Users  \n",
       "0               10813   814,885    24,701   \n",
       "1                9237   814,885    24,701   "
      ]
     },
     "execution_count": 18,
     "metadata": {},
     "output_type": "execute_result"
    }
   ],
   "source": [
    "data = data.reset_index()\n",
    "\n",
    "data.head(2)"
   ]
  },
  {
   "cell_type": "markdown",
   "metadata": {},
   "source": [
    "## Feature Extraction"
   ]
  },
  {
   "cell_type": "markdown",
   "metadata": {},
   "source": [
    "### 1. Number of Travel"
   ]
  },
  {
   "cell_type": "code",
   "execution_count": 19,
   "metadata": {},
   "outputs": [
    {
     "data": {
      "text/html": [
       "<div>\n",
       "<style scoped>\n",
       "    .dataframe tbody tr th:only-of-type {\n",
       "        vertical-align: middle;\n",
       "    }\n",
       "\n",
       "    .dataframe tbody tr th {\n",
       "        vertical-align: top;\n",
       "    }\n",
       "\n",
       "    .dataframe thead th {\n",
       "        text-align: right;\n",
       "    }\n",
       "</style>\n",
       "<table border=\"1\" class=\"dataframe\">\n",
       "  <thead>\n",
       "    <tr style=\"text-align: right;\">\n",
       "      <th></th>\n",
       "      <th>Transaction ID</th>\n",
       "      <th>Customer ID</th>\n",
       "      <th>City</th>\n",
       "      <th>Date of Travel</th>\n",
       "      <th>Company</th>\n",
       "      <th>KM Travelled</th>\n",
       "      <th>Price Charged</th>\n",
       "      <th>Cost of Trip</th>\n",
       "      <th>Payment_Mode</th>\n",
       "      <th>Gender</th>\n",
       "      <th>Age</th>\n",
       "      <th>Income (USD/Month)</th>\n",
       "      <th>Population</th>\n",
       "      <th>Users</th>\n",
       "      <th>No_of_Travel</th>\n",
       "    </tr>\n",
       "  </thead>\n",
       "  <tbody>\n",
       "    <tr>\n",
       "      <th>0</th>\n",
       "      <td>10000011</td>\n",
       "      <td>29290</td>\n",
       "      <td>ATLANTA GA</td>\n",
       "      <td>2016-01-08</td>\n",
       "      <td>Pink Cab</td>\n",
       "      <td>30.45</td>\n",
       "      <td>370.95</td>\n",
       "      <td>313.635</td>\n",
       "      <td>Card</td>\n",
       "      <td>Male</td>\n",
       "      <td>28</td>\n",
       "      <td>10813</td>\n",
       "      <td>814,885</td>\n",
       "      <td>24,701</td>\n",
       "      <td>111</td>\n",
       "    </tr>\n",
       "    <tr>\n",
       "      <th>1</th>\n",
       "      <td>10000012</td>\n",
       "      <td>27703</td>\n",
       "      <td>ATLANTA GA</td>\n",
       "      <td>2016-01-06</td>\n",
       "      <td>Pink Cab</td>\n",
       "      <td>28.62</td>\n",
       "      <td>358.52</td>\n",
       "      <td>334.854</td>\n",
       "      <td>Card</td>\n",
       "      <td>Male</td>\n",
       "      <td>27</td>\n",
       "      <td>9237</td>\n",
       "      <td>814,885</td>\n",
       "      <td>24,701</td>\n",
       "      <td>109</td>\n",
       "    </tr>\n",
       "  </tbody>\n",
       "</table>\n",
       "</div>"
      ],
      "text/plain": [
       "   Transaction ID  Customer ID        City Date of Travel   Company  \\\n",
       "0        10000011        29290  ATLANTA GA     2016-01-08  Pink Cab   \n",
       "1        10000012        27703  ATLANTA GA     2016-01-06  Pink Cab   \n",
       "\n",
       "   KM Travelled  Price Charged  Cost of Trip Payment_Mode Gender  Age  \\\n",
       "0         30.45         370.95       313.635         Card   Male   28   \n",
       "1         28.62         358.52       334.854         Card   Male   27   \n",
       "\n",
       "   Income (USD/Month) Population     Users  No_of_Travel  \n",
       "0               10813   814,885    24,701            111  \n",
       "1                9237   814,885    24,701            109  "
      ]
     },
     "execution_count": 19,
     "metadata": {},
     "output_type": "execute_result"
    }
   ],
   "source": [
    "# Calculating the Number of Travel by grouping the 'Transaction ID' per 'Date_of_Travel'\n",
    "data['No_of_Travel'] =data.groupby('Date of Travel')['Transaction ID'].transform('count')\n",
    "# Printing the Data after adding new column 'No_of_Travel'\n",
    "data.head(2)"
   ]
  },
  {
   "cell_type": "markdown",
   "metadata": {},
   "source": [
    "### 2. Profit"
   ]
  },
  {
   "cell_type": "code",
   "execution_count": 20,
   "metadata": {},
   "outputs": [
    {
     "data": {
      "text/html": [
       "<div>\n",
       "<style scoped>\n",
       "    .dataframe tbody tr th:only-of-type {\n",
       "        vertical-align: middle;\n",
       "    }\n",
       "\n",
       "    .dataframe tbody tr th {\n",
       "        vertical-align: top;\n",
       "    }\n",
       "\n",
       "    .dataframe thead th {\n",
       "        text-align: right;\n",
       "    }\n",
       "</style>\n",
       "<table border=\"1\" class=\"dataframe\">\n",
       "  <thead>\n",
       "    <tr style=\"text-align: right;\">\n",
       "      <th></th>\n",
       "      <th>Transaction ID</th>\n",
       "      <th>Customer ID</th>\n",
       "      <th>City</th>\n",
       "      <th>Date of Travel</th>\n",
       "      <th>Company</th>\n",
       "      <th>KM Travelled</th>\n",
       "      <th>Price Charged</th>\n",
       "      <th>Cost of Trip</th>\n",
       "      <th>Payment_Mode</th>\n",
       "      <th>Gender</th>\n",
       "      <th>Age</th>\n",
       "      <th>Income (USD/Month)</th>\n",
       "      <th>Population</th>\n",
       "      <th>Users</th>\n",
       "      <th>No_of_Travel</th>\n",
       "      <th>Profit</th>\n",
       "    </tr>\n",
       "  </thead>\n",
       "  <tbody>\n",
       "    <tr>\n",
       "      <th>0</th>\n",
       "      <td>10000011</td>\n",
       "      <td>29290</td>\n",
       "      <td>ATLANTA GA</td>\n",
       "      <td>2016-01-08</td>\n",
       "      <td>Pink Cab</td>\n",
       "      <td>30.45</td>\n",
       "      <td>370.95</td>\n",
       "      <td>313.635</td>\n",
       "      <td>Card</td>\n",
       "      <td>Male</td>\n",
       "      <td>28</td>\n",
       "      <td>10813</td>\n",
       "      <td>814,885</td>\n",
       "      <td>24,701</td>\n",
       "      <td>111</td>\n",
       "      <td>57.315</td>\n",
       "    </tr>\n",
       "    <tr>\n",
       "      <th>1</th>\n",
       "      <td>10000012</td>\n",
       "      <td>27703</td>\n",
       "      <td>ATLANTA GA</td>\n",
       "      <td>2016-01-06</td>\n",
       "      <td>Pink Cab</td>\n",
       "      <td>28.62</td>\n",
       "      <td>358.52</td>\n",
       "      <td>334.854</td>\n",
       "      <td>Card</td>\n",
       "      <td>Male</td>\n",
       "      <td>27</td>\n",
       "      <td>9237</td>\n",
       "      <td>814,885</td>\n",
       "      <td>24,701</td>\n",
       "      <td>109</td>\n",
       "      <td>23.666</td>\n",
       "    </tr>\n",
       "  </tbody>\n",
       "</table>\n",
       "</div>"
      ],
      "text/plain": [
       "   Transaction ID  Customer ID        City Date of Travel   Company  \\\n",
       "0        10000011        29290  ATLANTA GA     2016-01-08  Pink Cab   \n",
       "1        10000012        27703  ATLANTA GA     2016-01-06  Pink Cab   \n",
       "\n",
       "   KM Travelled  Price Charged  Cost of Trip Payment_Mode Gender  Age  \\\n",
       "0         30.45         370.95       313.635         Card   Male   28   \n",
       "1         28.62         358.52       334.854         Card   Male   27   \n",
       "\n",
       "   Income (USD/Month) Population     Users  No_of_Travel  Profit  \n",
       "0               10813   814,885    24,701            111  57.315  \n",
       "1                9237   814,885    24,701            109  23.666  "
      ]
     },
     "execution_count": 20,
     "metadata": {},
     "output_type": "execute_result"
    }
   ],
   "source": [
    "# Calculating the Profit (Profit = Price_Charged - Cost_of_Trip)\n",
    "data['Profit'] = data['Price Charged'] - data['Cost of Trip']\n",
    "# Printing the Data after adding new column 'Profit'\n",
    "data.head(2)"
   ]
  },
  {
   "cell_type": "markdown",
   "metadata": {},
   "source": [
    "### 3. Split 'Date of Travel' into 'Day','Month' and 'Year'"
   ]
  },
  {
   "cell_type": "code",
   "execution_count": 21,
   "metadata": {},
   "outputs": [
    {
     "data": {
      "text/html": [
       "<div>\n",
       "<style scoped>\n",
       "    .dataframe tbody tr th:only-of-type {\n",
       "        vertical-align: middle;\n",
       "    }\n",
       "\n",
       "    .dataframe tbody tr th {\n",
       "        vertical-align: top;\n",
       "    }\n",
       "\n",
       "    .dataframe thead th {\n",
       "        text-align: right;\n",
       "    }\n",
       "</style>\n",
       "<table border=\"1\" class=\"dataframe\">\n",
       "  <thead>\n",
       "    <tr style=\"text-align: right;\">\n",
       "      <th></th>\n",
       "      <th>Transaction ID</th>\n",
       "      <th>Customer ID</th>\n",
       "      <th>City</th>\n",
       "      <th>Company</th>\n",
       "      <th>KM Travelled</th>\n",
       "      <th>Price Charged</th>\n",
       "      <th>Cost of Trip</th>\n",
       "      <th>Payment_Mode</th>\n",
       "      <th>Gender</th>\n",
       "      <th>Age</th>\n",
       "      <th>Income (USD/Month)</th>\n",
       "      <th>Population</th>\n",
       "      <th>Users</th>\n",
       "      <th>No_of_Travel</th>\n",
       "      <th>Profit</th>\n",
       "      <th>day</th>\n",
       "      <th>month</th>\n",
       "      <th>year</th>\n",
       "    </tr>\n",
       "    <tr>\n",
       "      <th>Date of Travel</th>\n",
       "      <th></th>\n",
       "      <th></th>\n",
       "      <th></th>\n",
       "      <th></th>\n",
       "      <th></th>\n",
       "      <th></th>\n",
       "      <th></th>\n",
       "      <th></th>\n",
       "      <th></th>\n",
       "      <th></th>\n",
       "      <th></th>\n",
       "      <th></th>\n",
       "      <th></th>\n",
       "      <th></th>\n",
       "      <th></th>\n",
       "      <th></th>\n",
       "      <th></th>\n",
       "      <th></th>\n",
       "    </tr>\n",
       "  </thead>\n",
       "  <tbody>\n",
       "    <tr>\n",
       "      <th>2016-01-08</th>\n",
       "      <td>10000011</td>\n",
       "      <td>29290</td>\n",
       "      <td>ATLANTA GA</td>\n",
       "      <td>Pink Cab</td>\n",
       "      <td>30.45</td>\n",
       "      <td>370.95</td>\n",
       "      <td>313.635</td>\n",
       "      <td>Card</td>\n",
       "      <td>Male</td>\n",
       "      <td>28</td>\n",
       "      <td>10813</td>\n",
       "      <td>814,885</td>\n",
       "      <td>24,701</td>\n",
       "      <td>111</td>\n",
       "      <td>57.315</td>\n",
       "      <td>8</td>\n",
       "      <td>1</td>\n",
       "      <td>2016</td>\n",
       "    </tr>\n",
       "    <tr>\n",
       "      <th>2016-01-06</th>\n",
       "      <td>10000012</td>\n",
       "      <td>27703</td>\n",
       "      <td>ATLANTA GA</td>\n",
       "      <td>Pink Cab</td>\n",
       "      <td>28.62</td>\n",
       "      <td>358.52</td>\n",
       "      <td>334.854</td>\n",
       "      <td>Card</td>\n",
       "      <td>Male</td>\n",
       "      <td>27</td>\n",
       "      <td>9237</td>\n",
       "      <td>814,885</td>\n",
       "      <td>24,701</td>\n",
       "      <td>109</td>\n",
       "      <td>23.666</td>\n",
       "      <td>6</td>\n",
       "      <td>1</td>\n",
       "      <td>2016</td>\n",
       "    </tr>\n",
       "  </tbody>\n",
       "</table>\n",
       "</div>"
      ],
      "text/plain": [
       "                Transaction ID  Customer ID        City   Company  \\\n",
       "Date of Travel                                                      \n",
       "2016-01-08            10000011        29290  ATLANTA GA  Pink Cab   \n",
       "2016-01-06            10000012        27703  ATLANTA GA  Pink Cab   \n",
       "\n",
       "                KM Travelled  Price Charged  Cost of Trip Payment_Mode Gender  \\\n",
       "Date of Travel                                                                  \n",
       "2016-01-08             30.45         370.95       313.635         Card   Male   \n",
       "2016-01-06             28.62         358.52       334.854         Card   Male   \n",
       "\n",
       "                Age  Income (USD/Month) Population     Users  No_of_Travel  \\\n",
       "Date of Travel                                                               \n",
       "2016-01-08       28               10813   814,885    24,701            111   \n",
       "2016-01-06       27                9237   814,885    24,701            109   \n",
       "\n",
       "                Profit  day  month  year  \n",
       "Date of Travel                            \n",
       "2016-01-08      57.315    8      1  2016  \n",
       "2016-01-06      23.666    6      1  2016  "
      ]
     },
     "execution_count": 21,
     "metadata": {},
     "output_type": "execute_result"
    }
   ],
   "source": [
    "data=data.set_index('Date of Travel')\n",
    "data['day'] = data.index.day\n",
    "data['month'] = data.index.month\n",
    "data['year'] = data.index.year\n",
    "data.head(2)"
   ]
  },
  {
   "cell_type": "markdown",
   "metadata": {},
   "source": [
    "##  Data Description"
   ]
  },
  {
   "cell_type": "code",
   "execution_count": 22,
   "metadata": {},
   "outputs": [
    {
     "data": {
      "text/html": [
       "<div>\n",
       "<style scoped>\n",
       "    .dataframe tbody tr th:only-of-type {\n",
       "        vertical-align: middle;\n",
       "    }\n",
       "\n",
       "    .dataframe tbody tr th {\n",
       "        vertical-align: top;\n",
       "    }\n",
       "\n",
       "    .dataframe thead th {\n",
       "        text-align: right;\n",
       "    }\n",
       "</style>\n",
       "<table border=\"1\" class=\"dataframe\">\n",
       "  <thead>\n",
       "    <tr style=\"text-align: right;\">\n",
       "      <th></th>\n",
       "      <th>Transaction ID</th>\n",
       "      <th>Customer ID</th>\n",
       "      <th>KM Travelled</th>\n",
       "      <th>Price Charged</th>\n",
       "      <th>Cost of Trip</th>\n",
       "      <th>Age</th>\n",
       "      <th>Income (USD/Month)</th>\n",
       "      <th>No_of_Travel</th>\n",
       "      <th>Profit</th>\n",
       "      <th>day</th>\n",
       "      <th>month</th>\n",
       "      <th>year</th>\n",
       "    </tr>\n",
       "  </thead>\n",
       "  <tbody>\n",
       "    <tr>\n",
       "      <th>count</th>\n",
       "      <td>3.593920e+05</td>\n",
       "      <td>359392.000000</td>\n",
       "      <td>359392.000000</td>\n",
       "      <td>359392.000000</td>\n",
       "      <td>359392.000000</td>\n",
       "      <td>359392.000000</td>\n",
       "      <td>359392.000000</td>\n",
       "      <td>359392.000000</td>\n",
       "      <td>359392.000000</td>\n",
       "      <td>359392.000000</td>\n",
       "      <td>359392.000000</td>\n",
       "      <td>359392.000000</td>\n",
       "    </tr>\n",
       "    <tr>\n",
       "      <th>mean</th>\n",
       "      <td>1.022076e+07</td>\n",
       "      <td>19191.652115</td>\n",
       "      <td>22.567254</td>\n",
       "      <td>423.443311</td>\n",
       "      <td>286.190113</td>\n",
       "      <td>35.336705</td>\n",
       "      <td>15048.822937</td>\n",
       "      <td>488.744402</td>\n",
       "      <td>137.253198</td>\n",
       "      <td>15.628447</td>\n",
       "      <td>7.500434</td>\n",
       "      <td>2017.045199</td>\n",
       "    </tr>\n",
       "    <tr>\n",
       "      <th>std</th>\n",
       "      <td>1.268058e+05</td>\n",
       "      <td>21012.412463</td>\n",
       "      <td>12.233526</td>\n",
       "      <td>274.378911</td>\n",
       "      <td>157.993661</td>\n",
       "      <td>12.594234</td>\n",
       "      <td>7969.409482</td>\n",
       "      <td>298.934035</td>\n",
       "      <td>160.311840</td>\n",
       "      <td>8.827151</td>\n",
       "      <td>3.445095</td>\n",
       "      <td>0.800239</td>\n",
       "    </tr>\n",
       "    <tr>\n",
       "      <th>min</th>\n",
       "      <td>1.000001e+07</td>\n",
       "      <td>1.000000</td>\n",
       "      <td>1.900000</td>\n",
       "      <td>15.600000</td>\n",
       "      <td>19.000000</td>\n",
       "      <td>18.000000</td>\n",
       "      <td>2000.000000</td>\n",
       "      <td>25.000000</td>\n",
       "      <td>-220.060000</td>\n",
       "      <td>1.000000</td>\n",
       "      <td>1.000000</td>\n",
       "      <td>2016.000000</td>\n",
       "    </tr>\n",
       "    <tr>\n",
       "      <th>25%</th>\n",
       "      <td>1.011081e+07</td>\n",
       "      <td>2705.000000</td>\n",
       "      <td>12.000000</td>\n",
       "      <td>206.437500</td>\n",
       "      <td>151.200000</td>\n",
       "      <td>25.000000</td>\n",
       "      <td>8424.000000</td>\n",
       "      <td>245.000000</td>\n",
       "      <td>28.012000</td>\n",
       "      <td>8.000000</td>\n",
       "      <td>5.000000</td>\n",
       "      <td>2016.000000</td>\n",
       "    </tr>\n",
       "    <tr>\n",
       "      <th>50%</th>\n",
       "      <td>1.022104e+07</td>\n",
       "      <td>7459.000000</td>\n",
       "      <td>22.440000</td>\n",
       "      <td>386.360000</td>\n",
       "      <td>282.480000</td>\n",
       "      <td>33.000000</td>\n",
       "      <td>14685.000000</td>\n",
       "      <td>424.000000</td>\n",
       "      <td>81.962000</td>\n",
       "      <td>16.000000</td>\n",
       "      <td>8.000000</td>\n",
       "      <td>2017.000000</td>\n",
       "    </tr>\n",
       "    <tr>\n",
       "      <th>75%</th>\n",
       "      <td>1.033094e+07</td>\n",
       "      <td>36078.000000</td>\n",
       "      <td>32.960000</td>\n",
       "      <td>583.660000</td>\n",
       "      <td>413.683200</td>\n",
       "      <td>42.000000</td>\n",
       "      <td>21035.000000</td>\n",
       "      <td>728.000000</td>\n",
       "      <td>190.030000</td>\n",
       "      <td>23.000000</td>\n",
       "      <td>10.000000</td>\n",
       "      <td>2018.000000</td>\n",
       "    </tr>\n",
       "    <tr>\n",
       "      <th>max</th>\n",
       "      <td>1.044011e+07</td>\n",
       "      <td>60000.000000</td>\n",
       "      <td>48.000000</td>\n",
       "      <td>2048.030000</td>\n",
       "      <td>691.200000</td>\n",
       "      <td>65.000000</td>\n",
       "      <td>35000.000000</td>\n",
       "      <td>2022.000000</td>\n",
       "      <td>1463.966000</td>\n",
       "      <td>31.000000</td>\n",
       "      <td>12.000000</td>\n",
       "      <td>2018.000000</td>\n",
       "    </tr>\n",
       "  </tbody>\n",
       "</table>\n",
       "</div>"
      ],
      "text/plain": [
       "       Transaction ID    Customer ID   KM Travelled  Price Charged  \\\n",
       "count    3.593920e+05  359392.000000  359392.000000  359392.000000   \n",
       "mean     1.022076e+07   19191.652115      22.567254     423.443311   \n",
       "std      1.268058e+05   21012.412463      12.233526     274.378911   \n",
       "min      1.000001e+07       1.000000       1.900000      15.600000   \n",
       "25%      1.011081e+07    2705.000000      12.000000     206.437500   \n",
       "50%      1.022104e+07    7459.000000      22.440000     386.360000   \n",
       "75%      1.033094e+07   36078.000000      32.960000     583.660000   \n",
       "max      1.044011e+07   60000.000000      48.000000    2048.030000   \n",
       "\n",
       "        Cost of Trip            Age  Income (USD/Month)   No_of_Travel  \\\n",
       "count  359392.000000  359392.000000       359392.000000  359392.000000   \n",
       "mean      286.190113      35.336705        15048.822937     488.744402   \n",
       "std       157.993661      12.594234         7969.409482     298.934035   \n",
       "min        19.000000      18.000000         2000.000000      25.000000   \n",
       "25%       151.200000      25.000000         8424.000000     245.000000   \n",
       "50%       282.480000      33.000000        14685.000000     424.000000   \n",
       "75%       413.683200      42.000000        21035.000000     728.000000   \n",
       "max       691.200000      65.000000        35000.000000    2022.000000   \n",
       "\n",
       "              Profit            day          month           year  \n",
       "count  359392.000000  359392.000000  359392.000000  359392.000000  \n",
       "mean      137.253198      15.628447       7.500434    2017.045199  \n",
       "std       160.311840       8.827151       3.445095       0.800239  \n",
       "min      -220.060000       1.000000       1.000000    2016.000000  \n",
       "25%        28.012000       8.000000       5.000000    2016.000000  \n",
       "50%        81.962000      16.000000       8.000000    2017.000000  \n",
       "75%       190.030000      23.000000      10.000000    2018.000000  \n",
       "max      1463.966000      31.000000      12.000000    2018.000000  "
      ]
     },
     "execution_count": 22,
     "metadata": {},
     "output_type": "execute_result"
    }
   ],
   "source": [
    "data.describe()"
   ]
  },
  {
   "cell_type": "markdown",
   "metadata": {},
   "source": [
    "## Correlation For The Numeric Columns - to see how much those variables  are related "
   ]
  },
  {
   "cell_type": "code",
   "execution_count": 23,
   "metadata": {},
   "outputs": [
    {
     "data": {
      "text/html": [
       "<div>\n",
       "<style scoped>\n",
       "    .dataframe tbody tr th:only-of-type {\n",
       "        vertical-align: middle;\n",
       "    }\n",
       "\n",
       "    .dataframe tbody tr th {\n",
       "        vertical-align: top;\n",
       "    }\n",
       "\n",
       "    .dataframe thead th {\n",
       "        text-align: right;\n",
       "    }\n",
       "</style>\n",
       "<table border=\"1\" class=\"dataframe\">\n",
       "  <thead>\n",
       "    <tr style=\"text-align: right;\">\n",
       "      <th></th>\n",
       "      <th>Transaction ID</th>\n",
       "      <th>Customer ID</th>\n",
       "      <th>KM Travelled</th>\n",
       "      <th>Price Charged</th>\n",
       "      <th>Cost of Trip</th>\n",
       "      <th>Age</th>\n",
       "      <th>Income (USD/Month)</th>\n",
       "      <th>No_of_Travel</th>\n",
       "      <th>Profit</th>\n",
       "      <th>day</th>\n",
       "      <th>month</th>\n",
       "      <th>year</th>\n",
       "    </tr>\n",
       "  </thead>\n",
       "  <tbody>\n",
       "    <tr>\n",
       "      <th>Transaction ID</th>\n",
       "      <td>1.000000</td>\n",
       "      <td>-0.016912</td>\n",
       "      <td>-0.001429</td>\n",
       "      <td>-0.052902</td>\n",
       "      <td>-0.003462</td>\n",
       "      <td>-0.001267</td>\n",
       "      <td>-0.001570</td>\n",
       "      <td>0.268191</td>\n",
       "      <td>-0.087130</td>\n",
       "      <td>0.012021</td>\n",
       "      <td>0.287009</td>\n",
       "      <td>0.941600</td>\n",
       "    </tr>\n",
       "    <tr>\n",
       "      <th>Customer ID</th>\n",
       "      <td>-0.016912</td>\n",
       "      <td>1.000000</td>\n",
       "      <td>0.000389</td>\n",
       "      <td>-0.177324</td>\n",
       "      <td>0.003077</td>\n",
       "      <td>-0.004735</td>\n",
       "      <td>-0.013608</td>\n",
       "      <td>-0.026581</td>\n",
       "      <td>-0.306527</td>\n",
       "      <td>0.000650</td>\n",
       "      <td>-0.044656</td>\n",
       "      <td>-0.002539</td>\n",
       "    </tr>\n",
       "    <tr>\n",
       "      <th>KM Travelled</th>\n",
       "      <td>-0.001429</td>\n",
       "      <td>0.000389</td>\n",
       "      <td>1.000000</td>\n",
       "      <td>0.835753</td>\n",
       "      <td>0.981848</td>\n",
       "      <td>-0.000369</td>\n",
       "      <td>-0.000544</td>\n",
       "      <td>-0.000200</td>\n",
       "      <td>0.462768</td>\n",
       "      <td>0.001652</td>\n",
       "      <td>-0.001903</td>\n",
       "      <td>-0.001072</td>\n",
       "    </tr>\n",
       "    <tr>\n",
       "      <th>Price Charged</th>\n",
       "      <td>-0.052902</td>\n",
       "      <td>-0.177324</td>\n",
       "      <td>0.835753</td>\n",
       "      <td>1.000000</td>\n",
       "      <td>0.859812</td>\n",
       "      <td>-0.003084</td>\n",
       "      <td>0.003228</td>\n",
       "      <td>0.022000</td>\n",
       "      <td>0.864154</td>\n",
       "      <td>-0.004021</td>\n",
       "      <td>-0.061116</td>\n",
       "      <td>-0.036409</td>\n",
       "    </tr>\n",
       "    <tr>\n",
       "      <th>Cost of Trip</th>\n",
       "      <td>-0.003462</td>\n",
       "      <td>0.003077</td>\n",
       "      <td>0.981848</td>\n",
       "      <td>0.859812</td>\n",
       "      <td>1.000000</td>\n",
       "      <td>-0.000189</td>\n",
       "      <td>-0.000633</td>\n",
       "      <td>-0.003593</td>\n",
       "      <td>0.486056</td>\n",
       "      <td>0.002091</td>\n",
       "      <td>-0.008370</td>\n",
       "      <td>-0.001773</td>\n",
       "    </tr>\n",
       "    <tr>\n",
       "      <th>Age</th>\n",
       "      <td>-0.001267</td>\n",
       "      <td>-0.004735</td>\n",
       "      <td>-0.000369</td>\n",
       "      <td>-0.003084</td>\n",
       "      <td>-0.000189</td>\n",
       "      <td>1.000000</td>\n",
       "      <td>0.003907</td>\n",
       "      <td>-0.003462</td>\n",
       "      <td>-0.005093</td>\n",
       "      <td>-0.001275</td>\n",
       "      <td>-0.002226</td>\n",
       "      <td>-0.000579</td>\n",
       "    </tr>\n",
       "    <tr>\n",
       "      <th>Income (USD/Month)</th>\n",
       "      <td>-0.001570</td>\n",
       "      <td>-0.013608</td>\n",
       "      <td>-0.000544</td>\n",
       "      <td>0.003228</td>\n",
       "      <td>-0.000633</td>\n",
       "      <td>0.003907</td>\n",
       "      <td>1.000000</td>\n",
       "      <td>-0.001369</td>\n",
       "      <td>0.006148</td>\n",
       "      <td>0.001860</td>\n",
       "      <td>0.000322</td>\n",
       "      <td>-0.001617</td>\n",
       "    </tr>\n",
       "    <tr>\n",
       "      <th>No_of_Travel</th>\n",
       "      <td>0.268191</td>\n",
       "      <td>-0.026581</td>\n",
       "      <td>-0.000200</td>\n",
       "      <td>0.022000</td>\n",
       "      <td>-0.003593</td>\n",
       "      <td>-0.003462</td>\n",
       "      <td>-0.001369</td>\n",
       "      <td>1.000000</td>\n",
       "      <td>0.041195</td>\n",
       "      <td>-0.055464</td>\n",
       "      <td>0.357761</td>\n",
       "      <td>0.133514</td>\n",
       "    </tr>\n",
       "    <tr>\n",
       "      <th>Profit</th>\n",
       "      <td>-0.087130</td>\n",
       "      <td>-0.306527</td>\n",
       "      <td>0.462768</td>\n",
       "      <td>0.864154</td>\n",
       "      <td>0.486056</td>\n",
       "      <td>-0.005093</td>\n",
       "      <td>0.006148</td>\n",
       "      <td>0.041195</td>\n",
       "      <td>1.000000</td>\n",
       "      <td>-0.008942</td>\n",
       "      <td>-0.096352</td>\n",
       "      <td>-0.060567</td>\n",
       "    </tr>\n",
       "    <tr>\n",
       "      <th>day</th>\n",
       "      <td>0.012021</td>\n",
       "      <td>0.000650</td>\n",
       "      <td>0.001652</td>\n",
       "      <td>-0.004021</td>\n",
       "      <td>0.002091</td>\n",
       "      <td>-0.001275</td>\n",
       "      <td>0.001860</td>\n",
       "      <td>-0.055464</td>\n",
       "      <td>-0.008942</td>\n",
       "      <td>1.000000</td>\n",
       "      <td>0.041412</td>\n",
       "      <td>-0.020995</td>\n",
       "    </tr>\n",
       "    <tr>\n",
       "      <th>month</th>\n",
       "      <td>0.287009</td>\n",
       "      <td>-0.044656</td>\n",
       "      <td>-0.001903</td>\n",
       "      <td>-0.061116</td>\n",
       "      <td>-0.008370</td>\n",
       "      <td>-0.002226</td>\n",
       "      <td>0.000322</td>\n",
       "      <td>0.357761</td>\n",
       "      <td>-0.096352</td>\n",
       "      <td>0.041412</td>\n",
       "      <td>1.000000</td>\n",
       "      <td>-0.030490</td>\n",
       "    </tr>\n",
       "    <tr>\n",
       "      <th>year</th>\n",
       "      <td>0.941600</td>\n",
       "      <td>-0.002539</td>\n",
       "      <td>-0.001072</td>\n",
       "      <td>-0.036409</td>\n",
       "      <td>-0.001773</td>\n",
       "      <td>-0.000579</td>\n",
       "      <td>-0.001617</td>\n",
       "      <td>0.133514</td>\n",
       "      <td>-0.060567</td>\n",
       "      <td>-0.020995</td>\n",
       "      <td>-0.030490</td>\n",
       "      <td>1.000000</td>\n",
       "    </tr>\n",
       "  </tbody>\n",
       "</table>\n",
       "</div>"
      ],
      "text/plain": [
       "                    Transaction ID  Customer ID  KM Travelled  Price Charged  \\\n",
       "Transaction ID            1.000000    -0.016912     -0.001429      -0.052902   \n",
       "Customer ID              -0.016912     1.000000      0.000389      -0.177324   \n",
       "KM Travelled             -0.001429     0.000389      1.000000       0.835753   \n",
       "Price Charged            -0.052902    -0.177324      0.835753       1.000000   \n",
       "Cost of Trip             -0.003462     0.003077      0.981848       0.859812   \n",
       "Age                      -0.001267    -0.004735     -0.000369      -0.003084   \n",
       "Income (USD/Month)       -0.001570    -0.013608     -0.000544       0.003228   \n",
       "No_of_Travel              0.268191    -0.026581     -0.000200       0.022000   \n",
       "Profit                   -0.087130    -0.306527      0.462768       0.864154   \n",
       "day                       0.012021     0.000650      0.001652      -0.004021   \n",
       "month                     0.287009    -0.044656     -0.001903      -0.061116   \n",
       "year                      0.941600    -0.002539     -0.001072      -0.036409   \n",
       "\n",
       "                    Cost of Trip       Age  Income (USD/Month)  No_of_Travel  \\\n",
       "Transaction ID         -0.003462 -0.001267           -0.001570      0.268191   \n",
       "Customer ID             0.003077 -0.004735           -0.013608     -0.026581   \n",
       "KM Travelled            0.981848 -0.000369           -0.000544     -0.000200   \n",
       "Price Charged           0.859812 -0.003084            0.003228      0.022000   \n",
       "Cost of Trip            1.000000 -0.000189           -0.000633     -0.003593   \n",
       "Age                    -0.000189  1.000000            0.003907     -0.003462   \n",
       "Income (USD/Month)     -0.000633  0.003907            1.000000     -0.001369   \n",
       "No_of_Travel           -0.003593 -0.003462           -0.001369      1.000000   \n",
       "Profit                  0.486056 -0.005093            0.006148      0.041195   \n",
       "day                     0.002091 -0.001275            0.001860     -0.055464   \n",
       "month                  -0.008370 -0.002226            0.000322      0.357761   \n",
       "year                   -0.001773 -0.000579           -0.001617      0.133514   \n",
       "\n",
       "                      Profit       day     month      year  \n",
       "Transaction ID     -0.087130  0.012021  0.287009  0.941600  \n",
       "Customer ID        -0.306527  0.000650 -0.044656 -0.002539  \n",
       "KM Travelled        0.462768  0.001652 -0.001903 -0.001072  \n",
       "Price Charged       0.864154 -0.004021 -0.061116 -0.036409  \n",
       "Cost of Trip        0.486056  0.002091 -0.008370 -0.001773  \n",
       "Age                -0.005093 -0.001275 -0.002226 -0.000579  \n",
       "Income (USD/Month)  0.006148  0.001860  0.000322 -0.001617  \n",
       "No_of_Travel        0.041195 -0.055464  0.357761  0.133514  \n",
       "Profit              1.000000 -0.008942 -0.096352 -0.060567  \n",
       "day                -0.008942  1.000000  0.041412 -0.020995  \n",
       "month              -0.096352  0.041412  1.000000 -0.030490  \n",
       "year               -0.060567 -0.020995 -0.030490  1.000000  "
      ]
     },
     "execution_count": 23,
     "metadata": {},
     "output_type": "execute_result"
    }
   ],
   "source": [
    "d=data.corr()\n",
    "d"
   ]
  },
  {
   "cell_type": "markdown",
   "metadata": {},
   "source": [
    "## Data Preprocessing"
   ]
  },
  {
   "cell_type": "markdown",
   "metadata": {},
   "source": [
    "### 1.Renaming The Columns Names"
   ]
  },
  {
   "cell_type": "code",
   "execution_count": 25,
   "metadata": {},
   "outputs": [
    {
     "data": {
      "text/plain": [
       "Index(['Transaction_ID', 'Customer_ID', 'City', 'Company', 'KM_Travelled',\n",
       "       'Price_Charged', 'Cost_of_Trip', 'Payment_Mode', 'Gender', 'Age',\n",
       "       'Income', 'Population', 'Users', 'No_of_Travel', 'Profit', 'day',\n",
       "       'month', 'year'],\n",
       "      dtype='object')"
      ]
     },
     "execution_count": 25,
     "metadata": {},
     "output_type": "execute_result"
    }
   ],
   "source": [
    "data.rename({'KM Travelled':'KM_Travelled','Price Charged':'Price_Charged',\n",
    "             'Cost of Trip':'Cost_of_Trip','Income (USD/Month)':'Income',\n",
    "             'Customer ID':'Customer_ID','Transaction ID':'Transaction_ID'},axis=1,inplace=True)\n",
    "## Printing The Columns Names after renamming\n",
    "data.columns"
   ]
  },
  {
   "cell_type": "markdown",
   "metadata": {},
   "source": [
    "### 2. Converting Users Column to Integer"
   ]
  },
  {
   "cell_type": "code",
   "execution_count": 26,
   "metadata": {},
   "outputs": [],
   "source": [
    "data['Users'] = data['Users'].str.replace(',', '').astype('int64')"
   ]
  },
  {
   "cell_type": "code",
   "execution_count": 27,
   "metadata": {},
   "outputs": [
    {
     "name": "stdout",
     "output_type": "stream",
     "text": [
      "Data Type is : int64\n"
     ]
    }
   ],
   "source": [
    "# Printing The Data Type After Converting\n",
    "print('Data Type is :',data['Users'].dtypes)"
   ]
  },
  {
   "cell_type": "markdown",
   "metadata": {},
   "source": [
    "### 3. Converting KM_Travelled Column to Categorical"
   ]
  },
  {
   "cell_type": "code",
   "execution_count": 28,
   "metadata": {},
   "outputs": [],
   "source": [
    "# First we need to Convert KM_Travelled Column to Integer\n",
    "data['KM_Travelled']=data['KM_Travelled'].astype(int)"
   ]
  },
  {
   "cell_type": "code",
   "execution_count": 29,
   "metadata": {},
   "outputs": [
    {
     "name": "stdout",
     "output_type": "stream",
     "text": [
      "Data Type is : int32\n"
     ]
    }
   ],
   "source": [
    "# Printing The Data Type After Converting\n",
    "print('Data Type is :',data['KM_Travelled'].dtypes)"
   ]
  },
  {
   "cell_type": "code",
   "execution_count": 30,
   "metadata": {},
   "outputs": [
    {
     "data": {
      "text/html": [
       "<div>\n",
       "<style scoped>\n",
       "    .dataframe tbody tr th:only-of-type {\n",
       "        vertical-align: middle;\n",
       "    }\n",
       "\n",
       "    .dataframe tbody tr th {\n",
       "        vertical-align: top;\n",
       "    }\n",
       "\n",
       "    .dataframe thead th {\n",
       "        text-align: right;\n",
       "    }\n",
       "</style>\n",
       "<table border=\"1\" class=\"dataframe\">\n",
       "  <thead>\n",
       "    <tr style=\"text-align: right;\">\n",
       "      <th></th>\n",
       "      <th>KM_Travelled</th>\n",
       "    </tr>\n",
       "  </thead>\n",
       "  <tbody>\n",
       "    <tr>\n",
       "      <th>0</th>\n",
       "      <td>Long_Trip</td>\n",
       "    </tr>\n",
       "    <tr>\n",
       "      <th>1</th>\n",
       "      <td>Long_Trip</td>\n",
       "    </tr>\n",
       "    <tr>\n",
       "      <th>2</th>\n",
       "      <td>Short_Trip</td>\n",
       "    </tr>\n",
       "    <tr>\n",
       "      <th>3</th>\n",
       "      <td>Long_Trip</td>\n",
       "    </tr>\n",
       "    <tr>\n",
       "      <th>4</th>\n",
       "      <td>Short_Trip</td>\n",
       "    </tr>\n",
       "  </tbody>\n",
       "</table>\n",
       "</div>"
      ],
      "text/plain": [
       "  KM_Travelled\n",
       "0    Long_Trip\n",
       "1    Long_Trip\n",
       "2   Short_Trip\n",
       "3    Long_Trip\n",
       "4   Short_Trip"
      ]
     },
     "execution_count": 30,
     "metadata": {},
     "output_type": "execute_result"
    }
   ],
   "source": [
    "conds1 = [data['KM_Travelled'].values >= 23 , \n",
    "          data['KM_Travelled'].values <= 10, data['KM_Travelled'].between(10, 23)]\n",
    "choices1 = ['Long_Trip', 'Short_Trip','Medium_Trip']\n",
    "df1= pd.DataFrame(np.select(conds1, choices1),columns=['KM_Travelled'])\n",
    "# Printing the head\n",
    "df1.head()"
   ]
  },
  {
   "cell_type": "code",
   "execution_count": 31,
   "metadata": {},
   "outputs": [
    {
     "data": {
      "text/html": [
       "<div>\n",
       "<style scoped>\n",
       "    .dataframe tbody tr th:only-of-type {\n",
       "        vertical-align: middle;\n",
       "    }\n",
       "\n",
       "    .dataframe tbody tr th {\n",
       "        vertical-align: top;\n",
       "    }\n",
       "\n",
       "    .dataframe thead th {\n",
       "        text-align: right;\n",
       "    }\n",
       "</style>\n",
       "<table border=\"1\" class=\"dataframe\">\n",
       "  <thead>\n",
       "    <tr style=\"text-align: right;\">\n",
       "      <th></th>\n",
       "      <th>KM_Travelled</th>\n",
       "    </tr>\n",
       "  </thead>\n",
       "  <tbody>\n",
       "    <tr>\n",
       "      <th>359387</th>\n",
       "      <td>Short_Trip</td>\n",
       "    </tr>\n",
       "    <tr>\n",
       "      <th>359388</th>\n",
       "      <td>Short_Trip</td>\n",
       "    </tr>\n",
       "    <tr>\n",
       "      <th>359389</th>\n",
       "      <td>Long_Trip</td>\n",
       "    </tr>\n",
       "    <tr>\n",
       "      <th>359390</th>\n",
       "      <td>Short_Trip</td>\n",
       "    </tr>\n",
       "    <tr>\n",
       "      <th>359391</th>\n",
       "      <td>Medium_Trip</td>\n",
       "    </tr>\n",
       "  </tbody>\n",
       "</table>\n",
       "</div>"
      ],
      "text/plain": [
       "       KM_Travelled\n",
       "359387   Short_Trip\n",
       "359388   Short_Trip\n",
       "359389    Long_Trip\n",
       "359390   Short_Trip\n",
       "359391  Medium_Trip"
      ]
     },
     "execution_count": 31,
     "metadata": {},
     "output_type": "execute_result"
    }
   ],
   "source": [
    "# Printing the tail\n",
    "df1.tail()"
   ]
  },
  {
   "cell_type": "code",
   "execution_count": 32,
   "metadata": {},
   "outputs": [],
   "source": [
    "# Updating The Value of 'KM_Travelled' Column \n",
    "data=data.reset_index()\n",
    "data['KM_Travelled'].update(df1['KM_Travelled'])"
   ]
  },
  {
   "cell_type": "code",
   "execution_count": 33,
   "metadata": {},
   "outputs": [
    {
     "data": {
      "text/plain": [
       "0           Long_Trip\n",
       "1           Long_Trip\n",
       "2          Short_Trip\n",
       "3           Long_Trip\n",
       "4          Short_Trip\n",
       "             ...     \n",
       "359387     Short_Trip\n",
       "359388     Short_Trip\n",
       "359389      Long_Trip\n",
       "359390     Short_Trip\n",
       "359391    Medium_Trip\n",
       "Name: KM_Travelled, Length: 359392, dtype: object"
      ]
     },
     "execution_count": 33,
     "metadata": {},
     "output_type": "execute_result"
    }
   ],
   "source": [
    "# Printing 'KM_Travelled' After Update\n",
    "data['KM_Travelled']"
   ]
  },
  {
   "cell_type": "markdown",
   "metadata": {},
   "source": [
    "### 4. Converting Profit Column to Integer"
   ]
  },
  {
   "cell_type": "code",
   "execution_count": 34,
   "metadata": {},
   "outputs": [],
   "source": [
    "# Converting Profit Column to Integer\n",
    "data['Profit']=data['Profit'].astype(int)"
   ]
  },
  {
   "cell_type": "code",
   "execution_count": 35,
   "metadata": {},
   "outputs": [
    {
     "name": "stdout",
     "output_type": "stream",
     "text": [
      "Data Type is : int32\n"
     ]
    }
   ],
   "source": [
    "# Printing The Data Type After Converting\n",
    "print('Data Type is :',data['Profit'].dtypes)"
   ]
  },
  {
   "cell_type": "markdown",
   "metadata": {},
   "source": [
    "### 5. Converting 'Age' Column to Categorical"
   ]
  },
  {
   "cell_type": "code",
   "execution_count": 36,
   "metadata": {},
   "outputs": [
    {
     "data": {
      "text/plain": [
       "0    26-35\n",
       "1    26-35\n",
       "2    46-55\n",
       "Name: Age, dtype: category\n",
       "Categories (5, object): [15-25 < 26-35 < 36-45 < 46-55 < 56-65]"
      ]
     },
     "execution_count": 36,
     "metadata": {},
     "output_type": "execute_result"
    }
   ],
   "source": [
    "d=data['Age']\n",
    "ages = pd.DataFrame(d)\n",
    "bins = [15, 25, 35, 45, 55, 65]\n",
    "labels = ['15-25', '26-35', '36-45', '46-55', '56-65']\n",
    "data['Age'] = pd.cut(ages['Age'], bins, labels = labels,)\n",
    "# Printing The 'Age' Column After Converting\n",
    "data['Age'].head(3)"
   ]
  },
  {
   "cell_type": "markdown",
   "metadata": {},
   "source": [
    "### 6. Converting 'Income' Column to Categorical"
   ]
  },
  {
   "cell_type": "code",
   "execution_count": 37,
   "metadata": {},
   "outputs": [
    {
     "data": {
      "text/html": [
       "<div>\n",
       "<style scoped>\n",
       "    .dataframe tbody tr th:only-of-type {\n",
       "        vertical-align: middle;\n",
       "    }\n",
       "\n",
       "    .dataframe tbody tr th {\n",
       "        vertical-align: top;\n",
       "    }\n",
       "\n",
       "    .dataframe thead th {\n",
       "        text-align: right;\n",
       "    }\n",
       "</style>\n",
       "<table border=\"1\" class=\"dataframe\">\n",
       "  <thead>\n",
       "    <tr style=\"text-align: right;\">\n",
       "      <th></th>\n",
       "      <th>Income</th>\n",
       "    </tr>\n",
       "  </thead>\n",
       "  <tbody>\n",
       "    <tr>\n",
       "      <th>0</th>\n",
       "      <td>Medium_Income</td>\n",
       "    </tr>\n",
       "    <tr>\n",
       "      <th>1</th>\n",
       "      <td>Medium_Income</td>\n",
       "    </tr>\n",
       "    <tr>\n",
       "      <th>2</th>\n",
       "      <td>Medium_Income</td>\n",
       "    </tr>\n",
       "    <tr>\n",
       "      <th>3</th>\n",
       "      <td>High_Income</td>\n",
       "    </tr>\n",
       "    <tr>\n",
       "      <th>4</th>\n",
       "      <td>Medium_Income</td>\n",
       "    </tr>\n",
       "  </tbody>\n",
       "</table>\n",
       "</div>"
      ],
      "text/plain": [
       "          Income\n",
       "0  Medium_Income\n",
       "1  Medium_Income\n",
       "2  Medium_Income\n",
       "3    High_Income\n",
       "4  Medium_Income"
      ]
     },
     "execution_count": 37,
     "metadata": {},
     "output_type": "execute_result"
    }
   ],
   "source": [
    "conds = [data['Income'].values >= 15000 , data['Income'].values <= 5000, data['Income'].between(5000, 15000)]\n",
    "choices = ['High_Income', 'Low_Income','Medium_Income']\n",
    "df= pd.DataFrame(np.select(conds, choices),columns=['Income'])\n",
    "# Printing the head\n",
    "df.head()"
   ]
  },
  {
   "cell_type": "code",
   "execution_count": 38,
   "metadata": {},
   "outputs": [
    {
     "data": {
      "text/html": [
       "<div>\n",
       "<style scoped>\n",
       "    .dataframe tbody tr th:only-of-type {\n",
       "        vertical-align: middle;\n",
       "    }\n",
       "\n",
       "    .dataframe tbody tr th {\n",
       "        vertical-align: top;\n",
       "    }\n",
       "\n",
       "    .dataframe thead th {\n",
       "        text-align: right;\n",
       "    }\n",
       "</style>\n",
       "<table border=\"1\" class=\"dataframe\">\n",
       "  <thead>\n",
       "    <tr style=\"text-align: right;\">\n",
       "      <th></th>\n",
       "      <th>Income</th>\n",
       "    </tr>\n",
       "  </thead>\n",
       "  <tbody>\n",
       "    <tr>\n",
       "      <th>359387</th>\n",
       "      <td>High_Income</td>\n",
       "    </tr>\n",
       "    <tr>\n",
       "      <th>359388</th>\n",
       "      <td>Medium_Income</td>\n",
       "    </tr>\n",
       "    <tr>\n",
       "      <th>359389</th>\n",
       "      <td>Medium_Income</td>\n",
       "    </tr>\n",
       "    <tr>\n",
       "      <th>359390</th>\n",
       "      <td>Medium_Income</td>\n",
       "    </tr>\n",
       "    <tr>\n",
       "      <th>359391</th>\n",
       "      <td>Medium_Income</td>\n",
       "    </tr>\n",
       "  </tbody>\n",
       "</table>\n",
       "</div>"
      ],
      "text/plain": [
       "               Income\n",
       "359387    High_Income\n",
       "359388  Medium_Income\n",
       "359389  Medium_Income\n",
       "359390  Medium_Income\n",
       "359391  Medium_Income"
      ]
     },
     "execution_count": 38,
     "metadata": {},
     "output_type": "execute_result"
    }
   ],
   "source": [
    "# Printing the tail\n",
    "df.tail()"
   ]
  },
  {
   "cell_type": "code",
   "execution_count": 39,
   "metadata": {},
   "outputs": [],
   "source": [
    "# Updating The Value of 'Income' Column \n",
    "data=data.reset_index()\n",
    "data['Income'].update(df['Income'])"
   ]
  },
  {
   "cell_type": "code",
   "execution_count": 40,
   "metadata": {},
   "outputs": [
    {
     "data": {
      "text/plain": [
       "0         Medium_Income\n",
       "1         Medium_Income\n",
       "2         Medium_Income\n",
       "3           High_Income\n",
       "4         Medium_Income\n",
       "              ...      \n",
       "359387      High_Income\n",
       "359388    Medium_Income\n",
       "359389    Medium_Income\n",
       "359390    Medium_Income\n",
       "359391    Medium_Income\n",
       "Name: Income, Length: 359392, dtype: object"
      ]
     },
     "execution_count": 40,
     "metadata": {},
     "output_type": "execute_result"
    }
   ],
   "source": [
    "# Printing 'Income' After Update\n",
    "data['Income']"
   ]
  },
  {
   "cell_type": "markdown",
   "metadata": {},
   "source": [
    "### 7. Looking for Missing Values"
   ]
  },
  {
   "cell_type": "code",
   "execution_count": 41,
   "metadata": {},
   "outputs": [
    {
     "data": {
      "text/plain": [
       "index             0\n",
       "Date of Travel    0\n",
       "Transaction_ID    0\n",
       "Customer_ID       0\n",
       "City              0\n",
       "Company           0\n",
       "KM_Travelled      0\n",
       "Price_Charged     0\n",
       "Cost_of_Trip      0\n",
       "Payment_Mode      0\n",
       "Gender            0\n",
       "Age               0\n",
       "Income            0\n",
       "Population        0\n",
       "Users             0\n",
       "No_of_Travel      0\n",
       "Profit            0\n",
       "day               0\n",
       "month             0\n",
       "year              0\n",
       "dtype: int64"
      ]
     },
     "execution_count": 41,
     "metadata": {},
     "output_type": "execute_result"
    }
   ],
   "source": [
    "data.isnull().sum()"
   ]
  },
  {
   "cell_type": "markdown",
   "metadata": {},
   "source": [
    "### 8. Outliers Detection"
   ]
  },
  {
   "cell_type": "code",
   "execution_count": 42,
   "metadata": {},
   "outputs": [
    {
     "data": {
      "text/plain": [
       "<matplotlib.axes._subplots.AxesSubplot at 0x17cc7f88>"
      ]
     },
     "execution_count": 42,
     "metadata": {},
     "output_type": "execute_result"
    },
    {
     "data": {
      "image/png": "[encoded data removed]",
      "text/plain": [
       "<Figure size 1440x360 with 1 Axes>"
      ]
     },
     "metadata": {
      "needs_background": "light"
     },
     "output_type": "display_data"
    }
   ],
   "source": [
    "#outlier of a dataset is defined as a value that is more than 3 standard deviations from the mean\n",
    "data.plot(kind=\"box\",figsize =(20,5))"
   ]
  },
  {
   "cell_type": "markdown",
   "metadata": {},
   "source": [
    "## Some Statistics"
   ]
  },
  {
   "cell_type": "code",
   "execution_count": 43,
   "metadata": {},
   "outputs": [
    {
     "data": {
      "text/plain": [
       "26-35    113414\n",
       "15-25     93344\n",
       "36-45     75998\n",
       "46-55     38560\n",
       "56-65     38076\n",
       "Name: Age, dtype: int64"
      ]
     },
     "execution_count": 43,
     "metadata": {},
     "output_type": "execute_result"
    }
   ],
   "source": [
    "# Printing the values of (Age) column with its domain\n",
    "data['Age'].value_counts()"
   ]
  },
  {
   "cell_type": "code",
   "execution_count": 44,
   "metadata": {},
   "outputs": [
    {
     "data": {
      "text/plain": [
       "Male      205912\n",
       "Female    153480\n",
       "Name: Gender, dtype: int64"
      ]
     },
     "execution_count": 44,
     "metadata": {},
     "output_type": "execute_result"
    }
   ],
   "source": [
    "# Printing the values of (Gender) column with its domain\n",
    "data['Gender'].value_counts()"
   ]
  },
  {
   "cell_type": "code",
   "execution_count": 45,
   "metadata": {},
   "outputs": [
    {
     "data": {
      "text/plain": [
       "Yellow Cab    274681\n",
       "Pink Cab       84711\n",
       "Name: Company, dtype: int64"
      ]
     },
     "execution_count": 45,
     "metadata": {},
     "output_type": "execute_result"
    }
   ],
   "source": [
    "# Printing the values of (Company) column with its domain\n",
    "data['Company'].value_counts()"
   ]
  },
  {
   "cell_type": "code",
   "execution_count": 46,
   "metadata": {},
   "outputs": [
    {
     "data": {
      "text/plain": [
       "Card    215504\n",
       "Cash    143888\n",
       "Name: Payment_Mode, dtype: int64"
      ]
     },
     "execution_count": 46,
     "metadata": {},
     "output_type": "execute_result"
    }
   ],
   "source": [
    "# Printing the values of (Payment_Mode) column with its domain\n",
    "data['Payment_Mode'].value_counts()"
   ]
  },
  {
   "cell_type": "code",
   "execution_count": 47,
   "metadata": {},
   "outputs": [
    {
     "data": {
      "text/plain": [
       "Long_Trip      175226\n",
       "Medium_Trip    103231\n",
       "Short_Trip      80935\n",
       "Name: KM_Travelled, dtype: int64"
      ]
     },
     "execution_count": 47,
     "metadata": {},
     "output_type": "execute_result"
    }
   ],
   "source": [
    "# Printing the values of (KM_Travelled) column with its domain\n",
    "data['KM_Travelled'].value_counts()"
   ]
  },
  {
   "cell_type": "code",
   "execution_count": 48,
   "metadata": {},
   "outputs": [
    {
     "data": {
      "text/plain": [
       "NEW YORK NY       99885\n",
       "CHICAGO IL        56625\n",
       "LOS ANGELES CA    48033\n",
       "WASHINGTON DC     43737\n",
       "BOSTON MA         29692\n",
       "SAN DIEGO CA      20488\n",
       "SILICON VALLEY     8519\n",
       "SEATTLE WA         7997\n",
       "ATLANTA GA         7557\n",
       "DALLAS TX          7017\n",
       "MIAMI FL           6454\n",
       "AUSTIN TX          4896\n",
       "ORANGE COUNTY      3982\n",
       "DENVER CO          3825\n",
       "NASHVILLE TN       3010\n",
       "SACRAMENTO CA      2367\n",
       "PHOENIX AZ         2064\n",
       "TUCSON AZ          1931\n",
       "PITTSBURGH PA      1313\n",
       "Name: City, dtype: int64"
      ]
     },
     "execution_count": 48,
     "metadata": {},
     "output_type": "execute_result"
    }
   ],
   "source": [
    "# Printing the values of (City) column with its domain\n",
    "data['City'].value_counts()"
   ]
  },
  {
   "cell_type": "code",
   "execution_count": 49,
   "metadata": {},
   "outputs": [
    {
     "data": {
      "text/plain": [
       "0"
      ]
     },
     "execution_count": 49,
     "metadata": {},
     "output_type": "execute_result"
    }
   ],
   "source": [
    "# Find the Duplicate Rows\n",
    "data.duplicated().sum()"
   ]
  },
  {
   "cell_type": "markdown",
   "metadata": {},
   "source": [
    "## Correlation For The Categorical Columns - to see how much those variables  are related "
   ]
  },
  {
   "cell_type": "markdown",
   "metadata": {},
   "source": [
    "## Contingency Table"
   ]
  },
  {
   "cell_type": "markdown",
   "metadata": {},
   "source": [
    "### 1. Gender & Company"
   ]
  },
  {
   "cell_type": "code",
   "execution_count": 50,
   "metadata": {},
   "outputs": [
    {
     "data": {
      "text/html": [
       "<div>\n",
       "<style scoped>\n",
       "    .dataframe tbody tr th:only-of-type {\n",
       "        vertical-align: middle;\n",
       "    }\n",
       "\n",
       "    .dataframe tbody tr th {\n",
       "        vertical-align: top;\n",
       "    }\n",
       "\n",
       "    .dataframe thead th {\n",
       "        text-align: right;\n",
       "    }\n",
       "</style>\n",
       "<table border=\"1\" class=\"dataframe\">\n",
       "  <thead>\n",
       "    <tr style=\"text-align: right;\">\n",
       "      <th>Company</th>\n",
       "      <th>Pink Cab</th>\n",
       "      <th>Yellow Cab</th>\n",
       "    </tr>\n",
       "    <tr>\n",
       "      <th>Gender</th>\n",
       "      <th></th>\n",
       "      <th></th>\n",
       "    </tr>\n",
       "  </thead>\n",
       "  <tbody>\n",
       "    <tr>\n",
       "      <th>Female</th>\n",
       "      <td>37480</td>\n",
       "      <td>116000</td>\n",
       "    </tr>\n",
       "    <tr>\n",
       "      <th>Male</th>\n",
       "      <td>47231</td>\n",
       "      <td>158681</td>\n",
       "    </tr>\n",
       "  </tbody>\n",
       "</table>\n",
       "</div>"
      ],
      "text/plain": [
       "Company  Pink Cab  Yellow Cab\n",
       "Gender                       \n",
       "Female      37480      116000\n",
       "Male        47231      158681"
      ]
     },
     "execution_count": 50,
     "metadata": {},
     "output_type": "execute_result"
    }
   ],
   "source": [
    "contigency1= pd.crosstab(data['Gender'], data['Company']) \n",
    "contigency1"
   ]
  },
  {
   "cell_type": "code",
   "execution_count": 51,
   "metadata": {},
   "outputs": [
    {
     "name": "stdout",
     "output_type": "stream",
     "text": [
      "3.982674650131372e-25\n"
     ]
    }
   ],
   "source": [
    "from scipy.stats import chi2_contingency\n",
    "# Chi-square test of independence. \n",
    "# chi2: The test statistic\n",
    "# p: The p-value of the test\n",
    "# dof: Degrees of freedom\n",
    "# expected: The expected frequencies, based on the marginal sums of the table\n",
    "c, p, dof, expected = chi2_contingency(contigency1)\n",
    "# Print the p-value\n",
    "print(p)"
   ]
  },
  {
   "cell_type": "markdown",
   "metadata": {},
   "source": [
    "- The p-value > 0.05 which means that we do not reject the null hypothesis at 95% level of confidence. The null hypothesis was that Company and Gender are independent."
   ]
  },
  {
   "cell_type": "markdown",
   "metadata": {},
   "source": [
    "### 2. Gender & Age"
   ]
  },
  {
   "cell_type": "code",
   "execution_count": 52,
   "metadata": {},
   "outputs": [
    {
     "data": {
      "text/html": [
       "<div>\n",
       "<style scoped>\n",
       "    .dataframe tbody tr th:only-of-type {\n",
       "        vertical-align: middle;\n",
       "    }\n",
       "\n",
       "    .dataframe tbody tr th {\n",
       "        vertical-align: top;\n",
       "    }\n",
       "\n",
       "    .dataframe thead th {\n",
       "        text-align: right;\n",
       "    }\n",
       "</style>\n",
       "<table border=\"1\" class=\"dataframe\">\n",
       "  <thead>\n",
       "    <tr style=\"text-align: right;\">\n",
       "      <th>Age</th>\n",
       "      <th>15-25</th>\n",
       "      <th>26-35</th>\n",
       "      <th>36-45</th>\n",
       "      <th>46-55</th>\n",
       "      <th>56-65</th>\n",
       "    </tr>\n",
       "    <tr>\n",
       "      <th>Gender</th>\n",
       "      <th></th>\n",
       "      <th></th>\n",
       "      <th></th>\n",
       "      <th></th>\n",
       "      <th></th>\n",
       "    </tr>\n",
       "  </thead>\n",
       "  <tbody>\n",
       "    <tr>\n",
       "      <th>Female</th>\n",
       "      <td>40060</td>\n",
       "      <td>48603</td>\n",
       "      <td>32020</td>\n",
       "      <td>16572</td>\n",
       "      <td>16225</td>\n",
       "    </tr>\n",
       "    <tr>\n",
       "      <th>Male</th>\n",
       "      <td>53284</td>\n",
       "      <td>64811</td>\n",
       "      <td>43978</td>\n",
       "      <td>21988</td>\n",
       "      <td>21851</td>\n",
       "    </tr>\n",
       "  </tbody>\n",
       "</table>\n",
       "</div>"
      ],
      "text/plain": [
       "Age     15-25  26-35  36-45  46-55  56-65\n",
       "Gender                                   \n",
       "Female  40060  48603  32020  16572  16225\n",
       "Male    53284  64811  43978  21988  21851"
      ]
     },
     "execution_count": 52,
     "metadata": {},
     "output_type": "execute_result"
    }
   ],
   "source": [
    "contigency2= pd.crosstab(data['Gender'], data['Age']) \n",
    "contigency2"
   ]
  },
  {
   "cell_type": "code",
   "execution_count": 53,
   "metadata": {
    "scrolled": true
   },
   "outputs": [
    {
     "name": "stdout",
     "output_type": "stream",
     "text": [
      "0.006630823241464151\n"
     ]
    }
   ],
   "source": [
    "# Chi-square test of independence. \n",
    "c, p, dof, expected = chi2_contingency(contigency2)\n",
    "# Print the p-value\n",
    "print(p)"
   ]
  },
  {
   "cell_type": "markdown",
   "metadata": {},
   "source": [
    "- The p-value is < 0.05 which means that we will reject the null hypothesis at 95% level of confidence. The null hypothesis was that Age and Gender are independent."
   ]
  },
  {
   "cell_type": "markdown",
   "metadata": {},
   "source": [
    "### 3. Gender & Income"
   ]
  },
  {
   "cell_type": "code",
   "execution_count": 54,
   "metadata": {},
   "outputs": [
    {
     "data": {
      "text/html": [
       "<div>\n",
       "<style scoped>\n",
       "    .dataframe tbody tr th:only-of-type {\n",
       "        vertical-align: middle;\n",
       "    }\n",
       "\n",
       "    .dataframe tbody tr th {\n",
       "        vertical-align: top;\n",
       "    }\n",
       "\n",
       "    .dataframe thead th {\n",
       "        text-align: right;\n",
       "    }\n",
       "</style>\n",
       "<table border=\"1\" class=\"dataframe\">\n",
       "  <thead>\n",
       "    <tr style=\"text-align: right;\">\n",
       "      <th>Income</th>\n",
       "      <th>High_Income</th>\n",
       "      <th>Low_Income</th>\n",
       "      <th>Medium_Income</th>\n",
       "    </tr>\n",
       "    <tr>\n",
       "      <th>Gender</th>\n",
       "      <th></th>\n",
       "      <th></th>\n",
       "      <th></th>\n",
       "    </tr>\n",
       "  </thead>\n",
       "  <tbody>\n",
       "    <tr>\n",
       "      <th>Female</th>\n",
       "      <td>74765</td>\n",
       "      <td>18402</td>\n",
       "      <td>60313</td>\n",
       "    </tr>\n",
       "    <tr>\n",
       "      <th>Male</th>\n",
       "      <td>100759</td>\n",
       "      <td>24048</td>\n",
       "      <td>81105</td>\n",
       "    </tr>\n",
       "  </tbody>\n",
       "</table>\n",
       "</div>"
      ],
      "text/plain": [
       "Income  High_Income  Low_Income  Medium_Income\n",
       "Gender                                        \n",
       "Female        74765       18402          60313\n",
       "Male         100759       24048          81105"
      ]
     },
     "execution_count": 54,
     "metadata": {},
     "output_type": "execute_result"
    }
   ],
   "source": [
    "contigency3= pd.crosstab(data['Gender'], data['Income']) \n",
    "contigency3"
   ]
  },
  {
   "cell_type": "code",
   "execution_count": 55,
   "metadata": {},
   "outputs": [
    {
     "name": "stdout",
     "output_type": "stream",
     "text": [
      "0.016085183877326187\n"
     ]
    }
   ],
   "source": [
    "# Chi-square test of independence. \n",
    "c, p, dof, expected = chi2_contingency(contigency3)\n",
    "# Print the p-value\n",
    "print(p)"
   ]
  },
  {
   "cell_type": "markdown",
   "metadata": {},
   "source": [
    "- The p-value is < 0.05 which means that we will reject the null hypothesis at 95% level of confidence. The null hypothesis was that Income and Gender are independent."
   ]
  },
  {
   "cell_type": "markdown",
   "metadata": {},
   "source": [
    "### 4. Gender & Payment_Mode"
   ]
  },
  {
   "cell_type": "code",
   "execution_count": 56,
   "metadata": {},
   "outputs": [
    {
     "data": {
      "text/html": [
       "<div>\n",
       "<style scoped>\n",
       "    .dataframe tbody tr th:only-of-type {\n",
       "        vertical-align: middle;\n",
       "    }\n",
       "\n",
       "    .dataframe tbody tr th {\n",
       "        vertical-align: top;\n",
       "    }\n",
       "\n",
       "    .dataframe thead th {\n",
       "        text-align: right;\n",
       "    }\n",
       "</style>\n",
       "<table border=\"1\" class=\"dataframe\">\n",
       "  <thead>\n",
       "    <tr style=\"text-align: right;\">\n",
       "      <th>Payment_Mode</th>\n",
       "      <th>Card</th>\n",
       "      <th>Cash</th>\n",
       "    </tr>\n",
       "    <tr>\n",
       "      <th>Gender</th>\n",
       "      <th></th>\n",
       "      <th></th>\n",
       "    </tr>\n",
       "  </thead>\n",
       "  <tbody>\n",
       "    <tr>\n",
       "      <th>Female</th>\n",
       "      <td>92025</td>\n",
       "      <td>61455</td>\n",
       "    </tr>\n",
       "    <tr>\n",
       "      <th>Male</th>\n",
       "      <td>123479</td>\n",
       "      <td>82433</td>\n",
       "    </tr>\n",
       "  </tbody>\n",
       "</table>\n",
       "</div>"
      ],
      "text/plain": [
       "Payment_Mode    Card   Cash\n",
       "Gender                     \n",
       "Female         92025  61455\n",
       "Male          123479  82433"
      ]
     },
     "execution_count": 56,
     "metadata": {},
     "output_type": "execute_result"
    }
   ],
   "source": [
    "contigency4= pd.crosstab(data['Gender'], data['Payment_Mode']) \n",
    "contigency4     "
   ]
  },
  {
   "cell_type": "code",
   "execution_count": 57,
   "metadata": {},
   "outputs": [
    {
     "name": "stdout",
     "output_type": "stream",
     "text": [
      "0.9644797341429527\n"
     ]
    }
   ],
   "source": [
    "# Chi-square test of independence. \n",
    "c, p, dof, expected = chi2_contingency(contigency4)\n",
    "# Print the p-value\n",
    "print(p)"
   ]
  },
  {
   "cell_type": "markdown",
   "metadata": {},
   "source": [
    "- The p-value > 0.05 which means that we do not reject the null hypothesis at 95% level of confidence. The null hypothesis was that Payment_Mode and Gender are independent."
   ]
  },
  {
   "cell_type": "markdown",
   "metadata": {},
   "source": [
    "### 5. Gender & KM_Travelled"
   ]
  },
  {
   "cell_type": "code",
   "execution_count": 58,
   "metadata": {},
   "outputs": [
    {
     "data": {
      "text/html": [
       "<div>\n",
       "<style scoped>\n",
       "    .dataframe tbody tr th:only-of-type {\n",
       "        vertical-align: middle;\n",
       "    }\n",
       "\n",
       "    .dataframe tbody tr th {\n",
       "        vertical-align: top;\n",
       "    }\n",
       "\n",
       "    .dataframe thead th {\n",
       "        text-align: right;\n",
       "    }\n",
       "</style>\n",
       "<table border=\"1\" class=\"dataframe\">\n",
       "  <thead>\n",
       "    <tr style=\"text-align: right;\">\n",
       "      <th>KM_Travelled</th>\n",
       "      <th>Long_Trip</th>\n",
       "      <th>Medium_Trip</th>\n",
       "      <th>Short_Trip</th>\n",
       "    </tr>\n",
       "    <tr>\n",
       "      <th>Gender</th>\n",
       "      <th></th>\n",
       "      <th></th>\n",
       "      <th></th>\n",
       "    </tr>\n",
       "  </thead>\n",
       "  <tbody>\n",
       "    <tr>\n",
       "      <th>Female</th>\n",
       "      <td>74874</td>\n",
       "      <td>44109</td>\n",
       "      <td>34497</td>\n",
       "    </tr>\n",
       "    <tr>\n",
       "      <th>Male</th>\n",
       "      <td>100352</td>\n",
       "      <td>59122</td>\n",
       "      <td>46438</td>\n",
       "    </tr>\n",
       "  </tbody>\n",
       "</table>\n",
       "</div>"
      ],
      "text/plain": [
       "KM_Travelled  Long_Trip  Medium_Trip  Short_Trip\n",
       "Gender                                          \n",
       "Female            74874        44109       34497\n",
       "Male             100352        59122       46438"
      ]
     },
     "execution_count": 58,
     "metadata": {},
     "output_type": "execute_result"
    }
   ],
   "source": [
    "contigency5= pd.crosstab(data['Gender'], data['KM_Travelled']) \n",
    "contigency5     "
   ]
  },
  {
   "cell_type": "code",
   "execution_count": 59,
   "metadata": {},
   "outputs": [
    {
     "name": "stdout",
     "output_type": "stream",
     "text": [
      "0.8651567563272696\n"
     ]
    }
   ],
   "source": [
    "# Chi-square test of independence. \n",
    "c, p, dof, expected = chi2_contingency(contigency5)\n",
    "# Print the p-value\n",
    "print(p)"
   ]
  },
  {
   "cell_type": "markdown",
   "metadata": {},
   "source": [
    "- The p-value > 0.05 which means that we do not reject the null hypothesis at 95% level of confidence. The null hypothesis was that Payment_Mode and Gender are independent."
   ]
  },
  {
   "cell_type": "markdown",
   "metadata": {},
   "source": [
    "## Putting The Final Data into a Form of csv File"
   ]
  },
  {
   "cell_type": "code",
   "execution_count": 61,
   "metadata": {},
   "outputs": [
    {
     "data": {
      "text/html": [
       "<div>\n",
       "<style scoped>\n",
       "    .dataframe tbody tr th:only-of-type {\n",
       "        vertical-align: middle;\n",
       "    }\n",
       "\n",
       "    .dataframe tbody tr th {\n",
       "        vertical-align: top;\n",
       "    }\n",
       "\n",
       "    .dataframe thead th {\n",
       "        text-align: right;\n",
       "    }\n",
       "</style>\n",
       "<table border=\"1\" class=\"dataframe\">\n",
       "  <thead>\n",
       "    <tr style=\"text-align: right;\">\n",
       "      <th></th>\n",
       "      <th>index</th>\n",
       "      <th>Date of Travel</th>\n",
       "      <th>Transaction_ID</th>\n",
       "      <th>Customer_ID</th>\n",
       "      <th>City</th>\n",
       "      <th>Company</th>\n",
       "      <th>KM_Travelled</th>\n",
       "      <th>Price_Charged</th>\n",
       "      <th>Cost_of_Trip</th>\n",
       "      <th>Payment_Mode</th>\n",
       "      <th>Gender</th>\n",
       "      <th>Age</th>\n",
       "      <th>Income</th>\n",
       "      <th>Population</th>\n",
       "      <th>Users</th>\n",
       "      <th>No_of_Travel</th>\n",
       "      <th>Profit</th>\n",
       "      <th>day</th>\n",
       "      <th>month</th>\n",
       "      <th>year</th>\n",
       "    </tr>\n",
       "  </thead>\n",
       "  <tbody>\n",
       "    <tr>\n",
       "      <th>0</th>\n",
       "      <td>0</td>\n",
       "      <td>2016-01-08</td>\n",
       "      <td>10000011</td>\n",
       "      <td>29290</td>\n",
       "      <td>ATLANTA GA</td>\n",
       "      <td>Pink Cab</td>\n",
       "      <td>Long_Trip</td>\n",
       "      <td>370.95</td>\n",
       "      <td>313.635</td>\n",
       "      <td>Card</td>\n",
       "      <td>Male</td>\n",
       "      <td>26-35</td>\n",
       "      <td>Medium_Income</td>\n",
       "      <td>814,885</td>\n",
       "      <td>24701</td>\n",
       "      <td>111</td>\n",
       "      <td>57</td>\n",
       "      <td>8</td>\n",
       "      <td>1</td>\n",
       "      <td>2016</td>\n",
       "    </tr>\n",
       "    <tr>\n",
       "      <th>1</th>\n",
       "      <td>1</td>\n",
       "      <td>2016-01-06</td>\n",
       "      <td>10000012</td>\n",
       "      <td>27703</td>\n",
       "      <td>ATLANTA GA</td>\n",
       "      <td>Pink Cab</td>\n",
       "      <td>Long_Trip</td>\n",
       "      <td>358.52</td>\n",
       "      <td>334.854</td>\n",
       "      <td>Card</td>\n",
       "      <td>Male</td>\n",
       "      <td>26-35</td>\n",
       "      <td>Medium_Income</td>\n",
       "      <td>814,885</td>\n",
       "      <td>24701</td>\n",
       "      <td>109</td>\n",
       "      <td>23</td>\n",
       "      <td>6</td>\n",
       "      <td>1</td>\n",
       "      <td>2016</td>\n",
       "    </tr>\n",
       "  </tbody>\n",
       "</table>\n",
       "</div>"
      ],
      "text/plain": [
       "   index Date of Travel  Transaction_ID  Customer_ID        City   Company  \\\n",
       "0      0     2016-01-08        10000011        29290  ATLANTA GA  Pink Cab   \n",
       "1      1     2016-01-06        10000012        27703  ATLANTA GA  Pink Cab   \n",
       "\n",
       "  KM_Travelled  Price_Charged  Cost_of_Trip Payment_Mode Gender    Age  \\\n",
       "0    Long_Trip         370.95       313.635         Card   Male  26-35   \n",
       "1    Long_Trip         358.52       334.854         Card   Male  26-35   \n",
       "\n",
       "          Income Population  Users  No_of_Travel  Profit  day  month  year  \n",
       "0  Medium_Income   814,885   24701           111      57    8      1  2016  \n",
       "1  Medium_Income   814,885   24701           109      23    6      1  2016  "
      ]
     },
     "execution_count": 61,
     "metadata": {},
     "output_type": "execute_result"
    }
   ],
   "source": [
    "data.head(2)"
   ]
  },
  {
   "cell_type": "code",
   "execution_count": 62,
   "metadata": {},
   "outputs": [
    {
     "data": {
      "text/html": [
       "<div>\n",
       "<style scoped>\n",
       "    .dataframe tbody tr th:only-of-type {\n",
       "        vertical-align: middle;\n",
       "    }\n",
       "\n",
       "    .dataframe tbody tr th {\n",
       "        vertical-align: top;\n",
       "    }\n",
       "\n",
       "    .dataframe thead th {\n",
       "        text-align: right;\n",
       "    }\n",
       "</style>\n",
       "<table border=\"1\" class=\"dataframe\">\n",
       "  <thead>\n",
       "    <tr style=\"text-align: right;\">\n",
       "      <th></th>\n",
       "      <th>Date of Travel</th>\n",
       "      <th>Transaction_ID</th>\n",
       "      <th>Customer_ID</th>\n",
       "      <th>City</th>\n",
       "      <th>Company</th>\n",
       "      <th>KM_Travelled</th>\n",
       "      <th>Price_Charged</th>\n",
       "      <th>Cost_of_Trip</th>\n",
       "      <th>Payment_Mode</th>\n",
       "      <th>Gender</th>\n",
       "      <th>Age</th>\n",
       "      <th>Income</th>\n",
       "      <th>Population</th>\n",
       "      <th>Users</th>\n",
       "      <th>No_of_Travel</th>\n",
       "      <th>Profit</th>\n",
       "      <th>day</th>\n",
       "      <th>month</th>\n",
       "      <th>year</th>\n",
       "    </tr>\n",
       "  </thead>\n",
       "  <tbody>\n",
       "    <tr>\n",
       "      <th>0</th>\n",
       "      <td>2016-01-08</td>\n",
       "      <td>10000011</td>\n",
       "      <td>29290</td>\n",
       "      <td>ATLANTA GA</td>\n",
       "      <td>Pink Cab</td>\n",
       "      <td>Long_Trip</td>\n",
       "      <td>370.95</td>\n",
       "      <td>313.635</td>\n",
       "      <td>Card</td>\n",
       "      <td>Male</td>\n",
       "      <td>26-35</td>\n",
       "      <td>Medium_Income</td>\n",
       "      <td>814,885</td>\n",
       "      <td>24701</td>\n",
       "      <td>111</td>\n",
       "      <td>57</td>\n",
       "      <td>8</td>\n",
       "      <td>1</td>\n",
       "      <td>2016</td>\n",
       "    </tr>\n",
       "    <tr>\n",
       "      <th>1</th>\n",
       "      <td>2016-01-06</td>\n",
       "      <td>10000012</td>\n",
       "      <td>27703</td>\n",
       "      <td>ATLANTA GA</td>\n",
       "      <td>Pink Cab</td>\n",
       "      <td>Long_Trip</td>\n",
       "      <td>358.52</td>\n",
       "      <td>334.854</td>\n",
       "      <td>Card</td>\n",
       "      <td>Male</td>\n",
       "      <td>26-35</td>\n",
       "      <td>Medium_Income</td>\n",
       "      <td>814,885</td>\n",
       "      <td>24701</td>\n",
       "      <td>109</td>\n",
       "      <td>23</td>\n",
       "      <td>6</td>\n",
       "      <td>1</td>\n",
       "      <td>2016</td>\n",
       "    </tr>\n",
       "  </tbody>\n",
       "</table>\n",
       "</div>"
      ],
      "text/plain": [
       "  Date of Travel  Transaction_ID  Customer_ID        City   Company  \\\n",
       "0     2016-01-08        10000011        29290  ATLANTA GA  Pink Cab   \n",
       "1     2016-01-06        10000012        27703  ATLANTA GA  Pink Cab   \n",
       "\n",
       "  KM_Travelled  Price_Charged  Cost_of_Trip Payment_Mode Gender    Age  \\\n",
       "0    Long_Trip         370.95       313.635         Card   Male  26-35   \n",
       "1    Long_Trip         358.52       334.854         Card   Male  26-35   \n",
       "\n",
       "          Income Population  Users  No_of_Travel  Profit  day  month  year  \n",
       "0  Medium_Income   814,885   24701           111      57    8      1  2016  \n",
       "1  Medium_Income   814,885   24701           109      23    6      1  2016  "
      ]
     },
     "execution_count": 62,
     "metadata": {},
     "output_type": "execute_result"
    }
   ],
   "source": [
    "data.drop(['index'],axis=1,inplace=True)\n",
    "data.head(2)"
   ]
  },
  {
   "cell_type": "code",
   "execution_count": 63,
   "metadata": {},
   "outputs": [],
   "source": [
    "data.to_csv(\"D:\\\\ Final_Data.csv\")"
   ]
  },
  {
   "cell_type": "markdown",
   "metadata": {},
   "source": [
    "## Data Visualization"
   ]
  },
  {
   "cell_type": "markdown",
   "metadata": {},
   "source": [
    "## 1. Plotting  The Pink vs Yellow Cabs"
   ]
  },
  {
   "cell_type": "code",
   "execution_count": 64,
   "metadata": {},
   "outputs": [
    {
     "data": {
      "text/plain": [
       "<seaborn.axisgrid.FacetGrid at 0x169d3388>"
      ]
     },
     "execution_count": 64,
     "metadata": {},
     "output_type": "execute_result"
    },
    {
     "data": {
      "image/png": "[encoded data removed]",
      "text/plain": [
       "<Figure size 360x360 with 1 Axes>"
      ]
     },
     "metadata": {
      "needs_background": "light"
     },
     "output_type": "display_data"
    }
   ],
   "source": [
    "sns.catplot(x=\"Company\",data=data, kind=\"count\",palette=\"PuRd\")  "
   ]
  },
  {
   "cell_type": "markdown",
   "metadata": {},
   "source": [
    "##  2. The Age of Customers Those  Use Pink Cab and Other Those Use Yello Cab"
   ]
  },
  {
   "cell_type": "code",
   "execution_count": 65,
   "metadata": {},
   "outputs": [
    {
     "data": {
      "text/plain": [
       "<seaborn.axisgrid.FacetGrid at 0x2977f988>"
      ]
     },
     "execution_count": 65,
     "metadata": {},
     "output_type": "execute_result"
    },
    {
     "data": {
      "image/png": "[encoded data removed]",
      "text/plain": [
       "<Figure size 449x360 with 1 Axes>"
      ]
     },
     "metadata": {
      "needs_background": "light"
     },
     "output_type": "display_data"
    }
   ],
   "source": [
    "sns.catplot(x=\"Age\",hue=\"Company\",data=data, kind=\"count\",palette=\"Set1\")  "
   ]
  },
  {
   "cell_type": "markdown",
   "metadata": {},
   "source": [
    "## 3. The Gender of Customers Those  Use Pink Cab and Other Those Use Yello Cab"
   ]
  },
  {
   "cell_type": "code",
   "execution_count": 66,
   "metadata": {},
   "outputs": [
    {
     "data": {
      "text/plain": [
       "<seaborn.axisgrid.FacetGrid at 0xc6e85c8>"
      ]
     },
     "execution_count": 66,
     "metadata": {},
     "output_type": "execute_result"
    },
    {
     "data": {
      "image/png": "[encoded data removed]",
      "text/plain": [
       "<Figure size 449x360 with 1 Axes>"
      ]
     },
     "metadata": {
      "needs_background": "light"
     },
     "output_type": "display_data"
    }
   ],
   "source": [
    "sns.catplot(x=\"Gender\",hue=\"Company\",data=data, kind=\"count\",palette=\"Set2\")  "
   ]
  },
  {
   "cell_type": "markdown",
   "metadata": {},
   "source": [
    "## 4. Users Covered by Company "
   ]
  },
  {
   "cell_type": "code",
   "execution_count": 67,
   "metadata": {},
   "outputs": [
    {
     "data": {
      "text/plain": [
       "<seaborn.axisgrid.FacetGrid at 0x12b86348>"
      ]
     },
     "execution_count": 67,
     "metadata": {},
     "output_type": "execute_result"
    },
    {
     "data": {
      "image/png": "[encoded data removed]",
      "text/plain": [
       "<Figure size 449x360 with 1 Axes>"
      ]
     },
     "metadata": {
      "needs_background": "light"
     },
     "output_type": "display_data"
    }
   ],
   "source": [
    "a=data.groupby([data['year'],data['Company']]).Users.sum().to_frame()\n",
    "a = a.reset_index()\n",
    "sns.catplot(x=\"year\", y=\"Users\",hue= 'Company',kind=\"bar\", data=a, palette='mako')"
   ]
  },
  {
   "cell_type": "markdown",
   "metadata": {},
   "source": [
    "## 5. Customers Covered by Company "
   ]
  },
  {
   "cell_type": "code",
   "execution_count": 68,
   "metadata": {},
   "outputs": [
    {
     "data": {
      "text/plain": [
       "<matplotlib.axes._subplots.AxesSubplot at 0xdf349c8>"
      ]
     },
     "execution_count": 68,
     "metadata": {},
     "output_type": "execute_result"
    },
    {
     "data": {
      "image/png": "[encoded data removed]",
      "text/plain": [
       "<Figure size 432x288 with 1 Axes>"
      ]
     },
     "metadata": {
      "needs_background": "light"
     },
     "output_type": "display_data"
    }
   ],
   "source": [
    "c=data.groupby([data['year'],data['Company']]).Customer_ID.count().to_frame()\n",
    "c = c.reset_index()\n",
    "sns.barplot(x = 'year', y = 'Customer_ID',hue= 'Company', data = c,palette = 'PuRd', orient = 'v')"
   ]
  },
  {
   "cell_type": "markdown",
   "metadata": {},
   "source": [
    "## 6. Customers Covered by Company in each City"
   ]
  },
  {
   "cell_type": "code",
   "execution_count": 69,
   "metadata": {},
   "outputs": [
    {
     "data": {
      "text/plain": [
       "<matplotlib.axes._subplots.AxesSubplot at 0x12b6e748>"
      ]
     },
     "execution_count": 69,
     "metadata": {},
     "output_type": "execute_result"
    },
    {
     "data": {
      "image/png": "[encoded data removed]",
      "text/plain": [
       "<Figure size 432x288 with 1 Axes>"
      ]
     },
     "metadata": {
      "needs_background": "light"
     },
     "output_type": "display_data"
    }
   ],
   "source": [
    "city=data.groupby([data['Company'], data['City']]).Customer_ID.count().to_frame()\n",
    "city = city.reset_index()\n",
    "sns.barplot(x = 'Customer_ID', y = 'City',hue= 'Company', data = city,palette = 'Dark2', orient = 'h')"
   ]
  },
  {
   "cell_type": "markdown",
   "metadata": {},
   "source": [
    "## 7. Number of Customers Based on Trip Distance"
   ]
  },
  {
   "cell_type": "code",
   "execution_count": 70,
   "metadata": {},
   "outputs": [
    {
     "data": {
      "text/plain": [
       "<matplotlib.axes._subplots.AxesSubplot at 0x145b4f08>"
      ]
     },
     "execution_count": 70,
     "metadata": {},
     "output_type": "execute_result"
    },
    {
     "data": {
      "image/png": "[encoded data removed]",
      "text/plain": [
       "<Figure size 432x288 with 1 Axes>"
      ]
     },
     "metadata": {
      "needs_background": "light"
     },
     "output_type": "display_data"
    }
   ],
   "source": [
    "dc=data.groupby([data['Company'], data['KM_Travelled']]).Customer_ID.count().to_frame()\n",
    "dc = dc.reset_index()\n",
    "sns.barplot(y = 'Customer_ID', x = 'KM_Travelled',hue= 'Company', data = dc,palette = 'Dark2', orient = 'v')"
   ]
  },
  {
   "cell_type": "markdown",
   "metadata": {},
   "source": [
    "## 8. Number of Travels for Both Cabs in all City During 3 years"
   ]
  },
  {
   "cell_type": "code",
   "execution_count": 71,
   "metadata": {},
   "outputs": [
    {
     "data": {
      "text/plain": [
       "<seaborn.axisgrid.FacetGrid at 0x16b82a48>"
      ]
     },
     "execution_count": 71,
     "metadata": {},
     "output_type": "execute_result"
    },
    {
     "data": {
      "image/png": "[encoded data removed]",
      "text/plain": [
       "<Figure size 449x360 with 1 Axes>"
      ]
     },
     "metadata": {
      "needs_background": "light"
     },
     "output_type": "display_data"
    }
   ],
   "source": [
    "d1=data.groupby([data['year'],data['Company']])['No_of_Travel'].sum().to_frame()\n",
    "#d1.plot(kind='bar')\n",
    "d1 = d1.reset_index()\n",
    "sns.catplot(x=\"year\", y=\"No_of_Travel\",hue= 'Company',kind=\"bar\", data=d1)"
   ]
  },
  {
   "cell_type": "markdown",
   "metadata": {},
   "source": [
    "## 9. Number of Travels within a Month for Both Cabs in all City"
   ]
  },
  {
   "cell_type": "code",
   "execution_count": 72,
   "metadata": {},
   "outputs": [
    {
     "data": {
      "text/plain": [
       "<seaborn.axisgrid.FacetGrid at 0x16e06388>"
      ]
     },
     "execution_count": 72,
     "metadata": {},
     "output_type": "execute_result"
    },
    {
     "data": {
      "image/png": "[encoded data removed]",
      "text/plain": [
       "<Figure size 449x360 with 1 Axes>"
      ]
     },
     "metadata": {
      "needs_background": "light"
     },
     "output_type": "display_data"
    }
   ],
   "source": [
    "dm=data.groupby([data['month'],data['Company']])['No_of_Travel'].sum().to_frame()\n",
    "dm = dm.reset_index()\n",
    "sns.catplot(x=\"month\", y=\"No_of_Travel\",hue= 'Company',kind=\"bar\", data=dm, palette=\"Set1\")"
   ]
  },
  {
   "cell_type": "markdown",
   "metadata": {},
   "source": [
    "## 10. Number of Travels for Both Cabs by City During 3 years"
   ]
  },
  {
   "cell_type": "code",
   "execution_count": 73,
   "metadata": {},
   "outputs": [
    {
     "data": {
      "text/plain": [
       "<seaborn.axisgrid.FacetGrid at 0x17ccc508>"
      ]
     },
     "execution_count": 73,
     "metadata": {},
     "output_type": "execute_result"
    },
    {
     "data": {
      "image/png": "[encoded data removed]",
      "text/plain": [
       "<Figure size 449x360 with 1 Axes>"
      ]
     },
     "metadata": {
      "needs_background": "light"
     },
     "output_type": "display_data"
    }
   ],
   "source": [
    "dc=data.groupby([data['City'],data['Company']])['No_of_Travel'].sum().to_frame()\n",
    "dc = dc.reset_index()\n",
    "sns.catplot(y=\"City\", x=\"No_of_Travel\",hue= 'Company',kind=\"bar\", data=dc, palette=\"bright\")"
   ]
  },
  {
   "cell_type": "markdown",
   "metadata": {},
   "source": [
    "## 11. Seasonality in Number of Customers Using the Cab Service"
   ]
  },
  {
   "cell_type": "code",
   "execution_count": 74,
   "metadata": {},
   "outputs": [
    {
     "data": {
      "text/plain": [
       "<seaborn.axisgrid.FacetGrid at 0x179b0c08>"
      ]
     },
     "execution_count": 74,
     "metadata": {},
     "output_type": "execute_result"
    },
    {
     "data": {
      "image/png": "[encoded data removed]",
      "text/plain": [
       "<Figure size 728.903x360 with 1 Axes>"
      ]
     },
     "metadata": {
      "needs_background": "light"
     },
     "output_type": "display_data"
    }
   ],
   "source": [
    "da=data.groupby([data['day'],data['Company']])['No_of_Travel'].sum().to_frame()\n",
    "da = da.reset_index()\n",
    "sns.catplot(x=\"day\", y=\"No_of_Travel\",hue= 'Company',kind=\"point\", data=da, palette=\"Set1\", aspect=14.7/8.27)"
   ]
  },
  {
   "cell_type": "markdown",
   "metadata": {},
   "source": [
    "## 12. Monthly Profit for Both Cabs in all City During 3 years"
   ]
  },
  {
   "cell_type": "code",
   "execution_count": 75,
   "metadata": {},
   "outputs": [
    {
     "data": {
      "text/plain": [
       "<seaborn.axisgrid.FacetGrid at 0x179c58c8>"
      ]
     },
     "execution_count": 75,
     "metadata": {},
     "output_type": "execute_result"
    },
    {
     "data": {
      "image/png": "[encoded data removed]",
      "text/plain": [
       "<Figure size 449x360 with 1 Axes>"
      ]
     },
     "metadata": {
      "needs_background": "light"
     },
     "output_type": "display_data"
    }
   ],
   "source": [
    "d3=data.groupby([data['month'],data['Company']])['Profit'].mean().to_frame()\n",
    "#d1.plot(kind='bar')\n",
    "d3 = d3.reset_index()\n",
    "sns.catplot(x=\"month\", y=\"Profit\",hue= 'Company',kind='point', data=d3, palette=\"Set1\")"
   ]
  },
  {
   "cell_type": "markdown",
   "metadata": {},
   "source": [
    "## 13. Yearly Profit for Both Cabs in all City During 3 years"
   ]
  },
  {
   "cell_type": "code",
   "execution_count": 76,
   "metadata": {},
   "outputs": [
    {
     "data": {
      "text/plain": [
       "<seaborn.axisgrid.FacetGrid at 0x119b5408>"
      ]
     },
     "execution_count": 76,
     "metadata": {},
     "output_type": "execute_result"
    },
    {
     "data": {
      "image/png": "[encoded data removed]",
      "text/plain": [
       "<Figure size 449x360 with 1 Axes>"
      ]
     },
     "metadata": {
      "needs_background": "light"
     },
     "output_type": "display_data"
    }
   ],
   "source": [
    "d2=data.groupby([data['year'],data['Company']])['Profit'].mean().to_frame()\n",
    "d2 = d2.reset_index()\n",
    "sns.catplot(x=\"year\", y=\"Profit\",hue= 'Company',kind='point', data=d2, palette=\"Dark2\")"
   ]
  },
  {
   "cell_type": "markdown",
   "metadata": {},
   "source": [
    "## 14. Profit Based on Customers’s Income"
   ]
  },
  {
   "cell_type": "code",
   "execution_count": 77,
   "metadata": {},
   "outputs": [
    {
     "data": {
      "text/plain": [
       "<matplotlib.axes._subplots.AxesSubplot at 0x13285408>"
      ]
     },
     "execution_count": 77,
     "metadata": {},
     "output_type": "execute_result"
    },
    {
     "data": {
      "image/png": "[encoded data removed]",
      "text/plain": [
       "<Figure size 432x288 with 1 Axes>"
      ]
     },
     "metadata": {
      "needs_background": "light"
     },
     "output_type": "display_data"
    }
   ],
   "source": [
    "d_inc=data.groupby([data['Income'],data['Company']]).Profit.sum().to_frame()\n",
    "d_inc = d_inc.reset_index()\n",
    "sns.barplot(y = 'Profit', x = 'Income',hue= 'Company', data = d_inc,palette = 'magma', orient = 'v')"
   ]
  },
  {
   "cell_type": "markdown",
   "metadata": {},
   "source": [
    "## 15. Average of Profit Based on 'KM_Travelled'"
   ]
  },
  {
   "cell_type": "code",
   "execution_count": 78,
   "metadata": {},
   "outputs": [
    {
     "data": {
      "text/plain": [
       "<seaborn.axisgrid.FacetGrid at 0x1371a508>"
      ]
     },
     "execution_count": 78,
     "metadata": {},
     "output_type": "execute_result"
    },
    {
     "data": {
      "image/png": "[encoded data removed]",
      "text/plain": [
       "<Figure size 449x360 with 1 Axes>"
      ]
     },
     "metadata": {
      "needs_background": "light"
     },
     "output_type": "display_data"
    }
   ],
   "source": [
    "dkm=data.groupby([data['KM_Travelled'],data['Company']])['Profit'].mean().to_frame()\n",
    "#d1.plot(kind='bar')\n",
    "dkm = dkm.reset_index()\n",
    "sns.catplot(y=\"Profit\", x=\"KM_Travelled\",hue= 'Company',kind='point', data=dkm, palette=\"rocket\")"
   ]
  },
  {
   "cell_type": "markdown",
   "metadata": {},
   "source": [
    "## 16. Profit by City"
   ]
  },
  {
   "cell_type": "code",
   "execution_count": 79,
   "metadata": {},
   "outputs": [
    {
     "data": {
      "text/plain": [
       "<seaborn.axisgrid.FacetGrid at 0x13291048>"
      ]
     },
     "execution_count": 79,
     "metadata": {},
     "output_type": "execute_result"
    },
    {
     "data": {
      "image/png": "[encoded data removed]",
      "text/plain": [
       "<Figure size 449x360 with 1 Axes>"
      ]
     },
     "metadata": {
      "needs_background": "light"
     },
     "output_type": "display_data"
    }
   ],
   "source": [
    "d=data.groupby([data['City'],data['Company']])['Profit'].sum().to_frame()\n",
    "d = d.reset_index()\n",
    "sns.catplot(y=\"City\", x=\"Profit\",hue= 'Company',kind='bar', data=d, palette=\"viridis\")"
   ]
  },
  {
   "cell_type": "markdown",
   "metadata": {},
   "source": [
    "## 17. Seasonality in the Profit"
   ]
  },
  {
   "cell_type": "code",
   "execution_count": 80,
   "metadata": {},
   "outputs": [
    {
     "data": {
      "text/plain": [
       "<seaborn.axisgrid.FacetGrid at 0x14a182c8>"
      ]
     },
     "execution_count": 80,
     "metadata": {},
     "output_type": "execute_result"
    },
    {
     "data": {
      "image/png": "[encoded data removed]",
      "text/plain": [
       "<Figure size 728.903x360 with 1 Axes>"
      ]
     },
     "metadata": {
      "needs_background": "light"
     },
     "output_type": "display_data"
    }
   ],
   "source": [
    "da=data.groupby([data['day'],data['Company']])['Profit'].sum().to_frame()\n",
    "da = da.reset_index()\n",
    "sns.catplot(x=\"day\", y=\"Profit\",hue= 'Company',kind=\"point\", data=da, palette=\"icefire\", aspect=14.7/8.27)"
   ]
  },
  {
   "cell_type": "markdown",
   "metadata": {},
   "source": [
    "<h1 align='center' style='color:black'>  Profit Predicted Model for Pink Cab </h1>"
   ]
  },
  {
   "cell_type": "markdown",
   "metadata": {},
   "source": [
    "## Selecting the Data"
   ]
  },
  {
   "cell_type": "code",
   "execution_count": 81,
   "metadata": {},
   "outputs": [],
   "source": [
    "# Date_of_Travel was put as an index\n",
    "data=data.set_index('Date of Travel')"
   ]
  },
  {
   "cell_type": "code",
   "execution_count": 82,
   "metadata": {},
   "outputs": [
    {
     "data": {
      "text/plain": [
       "Date of Travel\n",
       "2016-01-08    57\n",
       "2016-01-06    23\n",
       "2016-01-02    27\n",
       "2016-01-07    25\n",
       "2016-01-03    16\n",
       "Name: Profit, dtype: int32"
      ]
     },
     "execution_count": 82,
     "metadata": {},
     "output_type": "execute_result"
    }
   ],
   "source": [
    "data_profit1=data['Profit'].loc[data['Company'] == 'Pink Cab']\n",
    "# Printing the head\n",
    "data_profit1.head()"
   ]
  },
  {
   "cell_type": "code",
   "execution_count": 83,
   "metadata": {},
   "outputs": [
    {
     "data": {
      "text/plain": [
       "(84711,)"
      ]
     },
     "execution_count": 83,
     "metadata": {},
     "output_type": "execute_result"
    }
   ],
   "source": [
    "# Printing the shape\n",
    "data_profit1.shape"
   ]
  },
  {
   "cell_type": "code",
   "execution_count": 84,
   "metadata": {},
   "outputs": [],
   "source": [
    "# we will use the averages daily profits value for that month instead,\n",
    "# and we are using the start of each month as the timestamp.\n",
    "pi = data_profit1.resample('MS').mean()"
   ]
  },
  {
   "cell_type": "code",
   "execution_count": 85,
   "metadata": {},
   "outputs": [
    {
     "data": {
      "text/plain": [
       "Date of Travel\n",
       "2017-01-01    86.052480\n",
       "2017-02-01    76.502929\n",
       "2017-03-01    77.545576\n",
       "2017-04-01    61.536651\n",
       "2017-05-01    36.527842\n",
       "2017-06-01    48.345655\n",
       "2017-07-01    49.444256\n",
       "2017-08-01    51.320680\n",
       "2017-09-01    57.865988\n",
       "2017-10-01    69.072235\n",
       "2017-11-01    73.181232\n",
       "2017-12-01    94.285849\n",
       "Freq: MS, Name: Profit, dtype: float64"
      ]
     },
     "execution_count": 85,
     "metadata": {},
     "output_type": "execute_result"
    }
   ],
   "source": [
    "# Have a quick peek 2017 profit data\n",
    "pi['2017']"
   ]
  },
  {
   "cell_type": "markdown",
   "metadata": {},
   "source": [
    "## Visualizing Profit Time Series Data"
   ]
  },
  {
   "cell_type": "code",
   "execution_count": 86,
   "metadata": {},
   "outputs": [
    {
     "data": {
      "image/png": "[encoded data removed]",
      "text/plain": [
       "<Figure size 1080x432 with 1 Axes>"
      ]
     },
     "metadata": {
      "needs_background": "light"
     },
     "output_type": "display_data"
    }
   ],
   "source": [
    "pi.plot(figsize=(15, 6))\n",
    "plt.show()"
   ]
  },
  {
   "cell_type": "markdown",
   "metadata": {},
   "source": [
    "### Inference :\n",
    "- The time-series has a seasonality pattern, such as profits are always high at the beginning of the year and low at the end ."
   ]
  },
  {
   "cell_type": "markdown",
   "metadata": {},
   "source": [
    "##  Testing the Stationary"
   ]
  },
  {
   "cell_type": "code",
   "execution_count": 87,
   "metadata": {},
   "outputs": [
    {
     "name": "stdout",
     "output_type": "stream",
     "text": [
      "Test Statistic                  1.075533\n",
      "p-value                         0.995002\n",
      "#Lags Used                      8.000000\n",
      "Number of Observations Used    27.000000\n",
      "Critical Value (1%)            -3.699608\n",
      "Critical Value (5%)            -2.976430\n",
      "Critical Value (10%)           -2.627601\n",
      "dtype: float64\n"
     ]
    }
   ],
   "source": [
    "# ADF (Augmented Dickey Fuller) Test\n",
    "dftest = adfuller(pi, autolag='AIC')\n",
    "dfoutput = pd.Series(dftest[0:4], index=['Test Statistic','p-value','#Lags Used','Number of Observations Used'])\n",
    "for key,value in dftest[4].items():\n",
    "        dfoutput['Critical Value (%s)'%key] = value\n",
    "print (dfoutput)"
   ]
  },
  {
   "cell_type": "markdown",
   "metadata": {},
   "source": [
    "### Inference :\n",
    "- If  p-value <= 0.05: we can reject the null hypothesis ( series is stationary). \n",
    "- If  p-value > 0.05: we fail to reject the null hypothesis (which means the series is not stationary).\n",
    "\n",
    "- In our above graph, p-value > 0.05, which implies that the series is not stationary.  "
   ]
  },
  {
   "cell_type": "markdown",
   "metadata": {},
   "source": [
    "## Making a Time Series Stationary"
   ]
  },
  {
   "cell_type": "code",
   "execution_count": 88,
   "metadata": {},
   "outputs": [
    {
     "data": {
      "text/plain": [
       "<matplotlib.axes._subplots.AxesSubplot at 0x177c9388>"
      ]
     },
     "execution_count": 88,
     "metadata": {},
     "output_type": "execute_result"
    },
    {
     "data": {
      "image/png": "[encoded data removed]",
      "text/plain": [
       "<Figure size 432x288 with 1 Axes>"
      ]
     },
     "metadata": {
      "needs_background": "light"
     },
     "output_type": "display_data"
    }
   ],
   "source": [
    "# Applying differencing on our series and plotting the results\n",
    "pi = pi- pi.shift(1)\n",
    "pi.dropna().plot()"
   ]
  },
  {
   "cell_type": "code",
   "execution_count": 89,
   "metadata": {},
   "outputs": [
    {
     "data": {
      "text/plain": [
       "Date of Travel\n",
       "2016-01-01          NaN\n",
       "2016-02-01     3.476440\n",
       "2016-03-01   -11.998630\n",
       "2016-04-01    -4.690510\n",
       "2016-05-01   -27.192924\n",
       "Freq: MS, Name: Profit, dtype: float64"
      ]
     },
     "execution_count": 89,
     "metadata": {},
     "output_type": "execute_result"
    }
   ],
   "source": [
    "pi.head()"
   ]
  },
  {
   "cell_type": "code",
   "execution_count": 90,
   "metadata": {},
   "outputs": [
    {
     "data": {
      "text/plain": [
       "Date of Travel\n",
       "2016-02-01     3.476440\n",
       "2016-03-01   -11.998630\n",
       "2016-04-01    -4.690510\n",
       "2016-05-01   -27.192924\n",
       "2016-06-01     1.771620\n",
       "Freq: MS, Name: Profit, dtype: float64"
      ]
     },
     "execution_count": 90,
     "metadata": {},
     "output_type": "execute_result"
    }
   ],
   "source": [
    "# Dropping NaN \n",
    "pi = pi[1:]\n",
    "pi.head()"
   ]
  },
  {
   "cell_type": "markdown",
   "metadata": {},
   "source": [
    "## Time series forecasting with ARIMA"
   ]
  },
  {
   "cell_type": "markdown",
   "metadata": {},
   "source": [
    "### Parameters account for seasonality, trend, and noise in data"
   ]
  },
  {
   "cell_type": "code",
   "execution_count": 91,
   "metadata": {},
   "outputs": [
    {
     "name": "stdout",
     "output_type": "stream",
     "text": [
      "Examples of parameter combinations for Seasonal ARIMA\n",
      "SARIMAX: (0, 0, 1) x (0, 0, 1, 12)\n",
      "SARIMAX: (0, 0, 1) x (0, 1, 0, 12)\n",
      "SARIMAX: (0, 1, 0) x (0, 1, 1, 12)\n",
      "SARIMAX: (0, 1, 0) x (1, 0, 0, 12)\n"
     ]
    }
   ],
   "source": [
    "import itertools\n",
    "p = d = q = range(0, 2)\n",
    "pdq = list(itertools.product(p, d, q))\n",
    "seasonal_pdq = [(x[0], x[1], x[2], 12) for x in \n",
    "list(itertools.product(p, d, q))]\n",
    "print('Examples of parameter combinations for Seasonal ARIMA')\n",
    "print('SARIMAX: {} x {}'.format(pdq[1], seasonal_pdq[1]))\n",
    "print('SARIMAX: {} x {}'.format(pdq[1], seasonal_pdq[2]))\n",
    "print('SARIMAX: {} x {}'.format(pdq[2], seasonal_pdq[3]))\n",
    "print('SARIMAX: {} x {}'.format(pdq[2], seasonal_pdq[4]))"
   ]
  },
  {
   "cell_type": "markdown",
   "metadata": {},
   "source": [
    "### Parameter Selection for our profit’s ARIMA Time Series Model"
   ]
  },
  {
   "cell_type": "code",
   "execution_count": 104,
   "metadata": {},
   "outputs": [
    {
     "name": "stdout",
     "output_type": "stream",
     "text": [
      "ARIMA(0, 0, 0)x(0, 0, 0, 12)12 - AIC:272.8550700788952\n",
      "ARIMA(0, 0, 0)x(0, 0, 1, 12)12 - AIC:170.25950768194176\n",
      "ARIMA(0, 0, 0)x(0, 1, 0, 12)12 - AIC:159.06202939275605\n",
      "ARIMA(0, 0, 0)x(0, 1, 1, 12)12 - AIC:53.509067602771935\n",
      "ARIMA(0, 0, 0)x(1, 0, 0, 12)12 - AIC:166.30168163056507\n",
      "ARIMA(0, 0, 0)x(1, 0, 1, 12)12 - AIC:156.86070484032984\n",
      "ARIMA(0, 0, 0)x(1, 1, 0, 12)12 - AIC:57.426272558186405\n",
      "ARIMA(0, 0, 0)x(1, 1, 1, 12)12 - AIC:55.509498999257374\n",
      "ARIMA(0, 0, 1)x(0, 0, 0, 12)12 - AIC:266.3392547707866\n",
      "ARIMA(0, 0, 1)x(0, 0, 1, 12)12 - AIC:165.8046556886171\n",
      "ARIMA(0, 0, 1)x(0, 1, 0, 12)12 - AIC:142.59947078126126\n",
      "ARIMA(0, 0, 1)x(0, 1, 1, 12)12 - AIC:50.33213479305433\n",
      "ARIMA(0, 0, 1)x(1, 0, 0, 12)12 - AIC:157.42836311675484\n",
      "ARIMA(0, 0, 1)x(1, 0, 1, 12)12 - AIC:142.51474737871877\n",
      "ARIMA(0, 0, 1)x(1, 1, 0, 12)12 - AIC:59.384982602139075\n",
      "ARIMA(0, 0, 1)x(1, 1, 1, 12)12 - AIC:52.306773810637736\n",
      "ARIMA(0, 1, 0)x(0, 0, 0, 12)12 - AIC:282.480586858192\n",
      "ARIMA(0, 1, 0)x(0, 0, 1, 12)12 - AIC:177.8098019920437\n",
      "ARIMA(0, 1, 0)x(0, 1, 0, 12)12 - AIC:174.83966365760213\n",
      "ARIMA(0, 1, 0)x(0, 1, 1, 12)12 - AIC:54.318838826832156\n",
      "ARIMA(0, 1, 0)x(1, 0, 0, 12)12 - AIC:183.18919414985123\n",
      "ARIMA(0, 1, 0)x(1, 0, 1, 12)12 - AIC:173.12513545505885\n",
      "ARIMA(0, 1, 0)x(1, 1, 0, 12)12 - AIC:59.32637208159593\n",
      "ARIMA(0, 1, 0)x(1, 1, 1, 12)12 - AIC:56.31934724236355\n",
      "ARIMA(0, 1, 1)x(0, 0, 0, 12)12 - AIC:263.5350116615722\n",
      "ARIMA(0, 1, 1)x(0, 0, 1, 12)12 - AIC:159.70079197557075\n",
      "ARIMA(0, 1, 1)x(0, 1, 0, 12)12 - AIC:146.85955229717345\n",
      "ARIMA(0, 1, 1)x(0, 1, 1, 12)12 - AIC:46.46368090132043\n",
      "ARIMA(0, 1, 1)x(1, 0, 0, 12)12 - AIC:165.04478953900474\n",
      "ARIMA(0, 1, 1)x(1, 0, 1, 12)12 - AIC:145.39866536456677\n",
      "ARIMA(0, 1, 1)x(1, 1, 0, 12)12 - AIC:57.311441927648175\n",
      "ARIMA(0, 1, 1)x(1, 1, 1, 12)12 - AIC:49.679757802269826\n",
      "ARIMA(1, 0, 0)x(0, 0, 0, 12)12 - AIC:274.1924781738431\n",
      "ARIMA(1, 0, 0)x(0, 0, 1, 12)12 - AIC:172.25903120961007\n",
      "ARIMA(1, 0, 0)x(0, 1, 0, 12)12 - AIC:152.2237437603737\n",
      "ARIMA(1, 0, 0)x(0, 1, 1, 12)12 - AIC:55.466612677240796\n",
      "ARIMA(1, 0, 0)x(1, 0, 0, 12)12 - AIC:151.53083331968259\n",
      "ARIMA(1, 0, 0)x(1, 0, 1, 12)12 - AIC:149.788908717321\n",
      "ARIMA(1, 0, 0)x(1, 1, 0, 12)12 - AIC:55.46663882289591\n",
      "ARIMA(1, 0, 0)x(1, 1, 1, 12)12 - AIC:57.46655159251754\n",
      "ARIMA(1, 0, 1)x(0, 0, 0, 12)12 - AIC:268.0392071749919\n",
      "ARIMA(1, 0, 1)x(0, 0, 1, 12)12 - AIC:167.7715518385287\n",
      "ARIMA(1, 0, 1)x(0, 1, 0, 12)12 - AIC:143.37005179316708\n",
      "ARIMA(1, 0, 1)x(0, 1, 1, 12)12 - AIC:52.291689488357264\n",
      "ARIMA(1, 0, 1)x(1, 0, 0, 12)12 - AIC:148.978699033029\n",
      "ARIMA(1, 0, 1)x(1, 0, 1, 12)12 - AIC:142.53160052983108\n",
      "ARIMA(1, 0, 1)x(1, 1, 0, 12)12 - AIC:57.46634737555912\n",
      "ARIMA(1, 0, 1)x(1, 1, 1, 12)12 - AIC:54.21027310995878\n",
      "ARIMA(1, 1, 0)x(0, 0, 0, 12)12 - AIC:277.6527062582999\n",
      "ARIMA(1, 1, 0)x(0, 0, 1, 12)12 - AIC:173.53794223026796\n",
      "ARIMA(1, 1, 0)x(0, 1, 0, 12)12 - AIC:165.56992872201397\n",
      "ARIMA(1, 1, 0)x(0, 1, 1, 12)12 - AIC:53.29998971479078\n",
      "ARIMA(1, 1, 0)x(1, 0, 0, 12)12 - AIC:165.1483981176585\n",
      "ARIMA(1, 1, 0)x(1, 0, 1, 12)12 - AIC:163.49081729320014\n",
      "ARIMA(1, 1, 0)x(1, 1, 0, 12)12 - AIC:53.30000588217487\n",
      "ARIMA(1, 1, 0)x(1, 1, 1, 12)12 - AIC:55.33203403495316\n",
      "ARIMA(1, 1, 1)x(0, 0, 0, 12)12 - AIC:264.80407522350424\n",
      "ARIMA(1, 1, 1)x(0, 0, 1, 12)12 - AIC:161.67895339657932\n",
      "ARIMA(1, 1, 1)x(0, 1, 0, 12)12 - AIC:143.2090520609305\n",
      "ARIMA(1, 1, 1)x(0, 1, 1, 12)12 - AIC:48.324652232186\n",
      "ARIMA(1, 1, 1)x(1, 0, 0, 12)12 - AIC:150.4708496762151\n",
      "ARIMA(1, 1, 1)x(1, 0, 1, 12)12 - AIC:141.74840957279747\n",
      "ARIMA(1, 1, 1)x(1, 1, 0, 12)12 - AIC:54.13655826572236\n",
      "ARIMA(1, 1, 1)x(1, 1, 1, 12)12 - AIC:51.66524234025531\n"
     ]
    }
   ],
   "source": [
    "import warnings\n",
    "warnings.filterwarnings(\"ignore\")\n",
    "import statsmodels.api as sm\n",
    "for param in pdq:\n",
    "    for param_seasonal in seasonal_pdq:\n",
    "        try:\n",
    "            mod = sm.tsa.statespace.SARIMAX(pi,order=param,\n",
    "                                            seasonal_order=param_seasonal,\n",
    "                                            enforce_stationarity=False,\n",
    "                                            enforce_invertibility=False)\n",
    "            results = mod.fit()\n",
    "            print('ARIMA{}x{}12 - AIC:{}'.format(param, param_seasonal, results.aic))\n",
    "        except:\n",
    "            continue\n",
    "            "
   ]
  },
  {
   "cell_type": "markdown",
   "metadata": {},
   "source": [
    "### Inference :\n",
    "- The above output suggests that SARIMAX(0, 1, 1)x(0, 1, 1, 12) yields the lowest AIC value of 46.46. Therefore we should consider this to be optimal option."
   ]
  },
  {
   "cell_type": "markdown",
   "metadata": {},
   "source": [
    "## Fitting the ARIMA model"
   ]
  },
  {
   "cell_type": "code",
   "execution_count": 105,
   "metadata": {},
   "outputs": [],
   "source": [
    "mod = sm.tsa.statespace.SARIMAX(pi,\n",
    "                                order=(0, 1, 1),\n",
    "                                seasonal_order=(0, 1, 1, 12),\n",
    "                                enforce_stationarity=False,\n",
    "                                enforce_invertibility=False)\n",
    "results = mod.fit()\n",
    "#print(results.summary().tables[1])"
   ]
  },
  {
   "cell_type": "markdown",
   "metadata": {},
   "source": [
    "## Validating Forecasts"
   ]
  },
  {
   "cell_type": "code",
   "execution_count": 138,
   "metadata": {},
   "outputs": [
    {
     "data": {
      "image/png": "[encoded data removed]",
      "text/plain": [
       "<Figure size 1008x504 with 1 Axes>"
      ]
     },
     "metadata": {
      "needs_background": "light"
     },
     "output_type": "display_data"
    }
   ],
   "source": [
    "pred = results.get_prediction(start=pd.to_datetime('2018-01-01'), dynamic=False)\n",
    "pred_ci = pred.conf_int()\n",
    "ax = pi['2016':].plot(label='observed')\n",
    "pred.predicted_mean.plot(ax=ax, label='One-step ahead Forecast', alpha=.7, figsize=(14, 7))\n",
    "ax.fill_between(pred_ci.index,\n",
    "                pred_ci.iloc[:, 0],\n",
    "                pred_ci.iloc[:, 1], color='k', alpha=.2)\n",
    "ax.set_xlabel('Date of Travel')\n",
    "ax.set_ylabel('Profit')\n",
    "plt.legend()\n",
    "plt.show()"
   ]
  },
  {
   "cell_type": "markdown",
   "metadata": {},
   "source": [
    "### Inference :\n",
    "- Our forecasts align with the true values very well."
   ]
  },
  {
   "cell_type": "markdown",
   "metadata": {},
   "source": [
    "### The Mean Squared Error of our forecasts"
   ]
  },
  {
   "cell_type": "code",
   "execution_count": 107,
   "metadata": {},
   "outputs": [
    {
     "name": "stdout",
     "output_type": "stream",
     "text": [
      "The Mean Squared Error of our forecasts is 32.14\n"
     ]
    }
   ],
   "source": [
    "y_forecasted = pred.predicted_mean\n",
    "y_truth = pi['2018-01-01':]\n",
    "mse = ((y_forecasted - y_truth) ** 2).mean()\n",
    "print('The Mean Squared Error of our forecasts is {}'.format(round(mse, 2)))"
   ]
  },
  {
   "cell_type": "markdown",
   "metadata": {},
   "source": [
    "### The Root Mean Squared Error of our forecasts"
   ]
  },
  {
   "cell_type": "code",
   "execution_count": 110,
   "metadata": {},
   "outputs": [
    {
     "name": "stdout",
     "output_type": "stream",
     "text": [
      "The Root Mean Squared Error of our forecasts is 5.67\n"
     ]
    }
   ],
   "source": [
    "print('The Root Mean Squared Error of our forecasts is {}'.format(round(np.sqrt(mse), 2)))"
   ]
  },
  {
   "cell_type": "markdown",
   "metadata": {},
   "source": [
    "### Inference :\n",
    "- Root Mean Square Error (RMSE) tells us that our model was able to forecast the average daily Profit for pink cabs in the test set within 5.67 of the real profits."
   ]
  },
  {
   "cell_type": "markdown",
   "metadata": {},
   "source": [
    "## Producing and visualizing forecasts"
   ]
  },
  {
   "cell_type": "code",
   "execution_count": 133,
   "metadata": {},
   "outputs": [
    {
     "data": {
      "image/png": "[encoded data removed]",
      "text/plain": [
       "<Figure size 1008x504 with 1 Axes>"
      ]
     },
     "metadata": {
      "needs_background": "light"
     },
     "output_type": "display_data"
    }
   ],
   "source": [
    "# Forecasts for two years for pink cab into the future\n",
    "pred_uc = results.get_forecast(steps=24)\n",
    "pred_ci = pred_uc.conf_int()\n",
    "ax = pi.plot(label='observed', figsize=(14, 7))\n",
    "pred_uc.predicted_mean.plot(ax=ax, label='Forecast')\n",
    "ax.fill_between(pred_ci.index,\n",
    "                pred_ci.iloc[:, 0],\n",
    "                pred_ci.iloc[:, 1], color='k', alpha=.25)\n",
    "ax.set_xlabel('Date of Travel')\n",
    "ax.set_ylabel('Profit')\n",
    "plt.legend()\n",
    "plt.show()"
   ]
  },
  {
   "cell_type": "markdown",
   "metadata": {},
   "source": [
    "<h1 align='center' style='color:black'>  Profit Predicted Model for Yellow Cab </h1>"
   ]
  },
  {
   "cell_type": "markdown",
   "metadata": {},
   "source": [
    "## Selecting the Data"
   ]
  },
  {
   "cell_type": "code",
   "execution_count": 119,
   "metadata": {},
   "outputs": [
    {
     "data": {
      "text/plain": [
       "Date of Travel\n",
       "2016-01-02    877\n",
       "2016-01-09    895\n",
       "2016-01-03    232\n",
       "2016-01-06    504\n",
       "2016-01-07    944\n",
       "Name: Profit, dtype: int32"
      ]
     },
     "execution_count": 119,
     "metadata": {},
     "output_type": "execute_result"
    }
   ],
   "source": [
    "data_profit2=data['Profit'].loc[data['Company'] == 'Yellow Cab']\n",
    "# Printing the head\n",
    "data_profit2.head()"
   ]
  },
  {
   "cell_type": "code",
   "execution_count": 120,
   "metadata": {},
   "outputs": [
    {
     "data": {
      "text/plain": [
       "(274681,)"
      ]
     },
     "execution_count": 120,
     "metadata": {},
     "output_type": "execute_result"
    }
   ],
   "source": [
    "# Printing the shape\n",
    "data_profit2.shape"
   ]
  },
  {
   "cell_type": "code",
   "execution_count": 121,
   "metadata": {},
   "outputs": [],
   "source": [
    "# we will use the averages daily profits value for that month instead,\n",
    "# and we are using the start of each month as the timestamp.\n",
    "py = data_profit2.resample('MS').mean()"
   ]
  },
  {
   "cell_type": "code",
   "execution_count": 122,
   "metadata": {},
   "outputs": [
    {
     "data": {
      "text/plain": [
       "Date of Travel\n",
       "2017-01-01    195.017199\n",
       "2017-02-01    204.422359\n",
       "2017-03-01    199.409873\n",
       "2017-04-01    191.179849\n",
       "2017-05-01    228.837085\n",
       "2017-06-01    181.839710\n",
       "2017-07-01    139.538586\n",
       "2017-08-01    132.205830\n",
       "2017-09-01    160.870893\n",
       "2017-10-01    147.322798\n",
       "2017-11-01    156.795245\n",
       "2017-12-01    149.991671\n",
       "Freq: MS, Name: Profit, dtype: float64"
      ]
     },
     "execution_count": 122,
     "metadata": {},
     "output_type": "execute_result"
    }
   ],
   "source": [
    "# Have a quick peek 2017 profit data\n",
    "py['2017']"
   ]
  },
  {
   "cell_type": "markdown",
   "metadata": {},
   "source": [
    "## Visualizing Profit Time Series Data"
   ]
  },
  {
   "cell_type": "code",
   "execution_count": 123,
   "metadata": {},
   "outputs": [
    {
     "data": {
      "image/png": "[encoded data removed]",
      "text/plain": [
       "<Figure size 1080x432 with 1 Axes>"
      ]
     },
     "metadata": {
      "needs_background": "light"
     },
     "output_type": "display_data"
    }
   ],
   "source": [
    "py.plot(figsize=(15, 6))\n",
    "plt.show()"
   ]
  },
  {
   "cell_type": "markdown",
   "metadata": {},
   "source": [
    "### Inference :\n",
    "- The time-series has a seasonality pattern, such as profits are always high at the beginning of the year and low at the end ."
   ]
  },
  {
   "cell_type": "markdown",
   "metadata": {},
   "source": [
    "##  Testing the Stationary"
   ]
  },
  {
   "cell_type": "code",
   "execution_count": 124,
   "metadata": {},
   "outputs": [
    {
     "name": "stdout",
     "output_type": "stream",
     "text": [
      "Test Statistic                  0.136081\n",
      "p-value                         0.968440\n",
      "#Lags Used                     10.000000\n",
      "Number of Observations Used    25.000000\n",
      "Critical Value (1%)            -3.723863\n",
      "Critical Value (5%)            -2.986489\n",
      "Critical Value (10%)           -2.632800\n",
      "dtype: float64\n"
     ]
    }
   ],
   "source": [
    "# ADF (Augmented Dickey Fuller) Test\n",
    "dftest = adfuller(py, autolag='AIC')\n",
    "dfoutput = pd.Series(dftest[0:4], index=['Test Statistic','p-value','#Lags Used','Number of Observations Used'])\n",
    "for key,value in dftest[4].items():\n",
    "        dfoutput['Critical Value (%s)'%key] = value\n",
    "print (dfoutput)"
   ]
  },
  {
   "cell_type": "markdown",
   "metadata": {},
   "source": [
    "### Inference :\n",
    "- If  p-value <= 0.05: we can reject the null hypothesis ( series is stationary). \n",
    "- If  p-value > 0.05: we fail to reject the null hypothesis (which means the series is not stationary).\n",
    "\n",
    "- In our above graph, p-value > 0.05, which implies that the series is not stationary.  "
   ]
  },
  {
   "cell_type": "markdown",
   "metadata": {},
   "source": [
    "## Making a Time Series Stationary"
   ]
  },
  {
   "cell_type": "code",
   "execution_count": 125,
   "metadata": {},
   "outputs": [
    {
     "data": {
      "text/plain": [
       "<matplotlib.axes._subplots.AxesSubplot at 0xcc4a208>"
      ]
     },
     "execution_count": 125,
     "metadata": {},
     "output_type": "execute_result"
    },
    {
     "data": {
      "image/png": "[encoded data removed]",
      "text/plain": [
       "<Figure size 432x288 with 1 Axes>"
      ]
     },
     "metadata": {
      "needs_background": "light"
     },
     "output_type": "display_data"
    }
   ],
   "source": [
    "# Applying differencing on our series and plotting the results\n",
    "py = py- py.shift(1)\n",
    "py.dropna().plot()"
   ]
  },
  {
   "cell_type": "code",
   "execution_count": 126,
   "metadata": {},
   "outputs": [
    {
     "data": {
      "text/plain": [
       "Date of Travel\n",
       "2016-01-01          NaN\n",
       "2016-02-01    -8.964578\n",
       "2016-03-01   -38.108983\n",
       "2016-04-01    -1.262756\n",
       "2016-05-01    38.456215\n",
       "Freq: MS, Name: Profit, dtype: float64"
      ]
     },
     "execution_count": 126,
     "metadata": {},
     "output_type": "execute_result"
    }
   ],
   "source": [
    "py.head()"
   ]
  },
  {
   "cell_type": "code",
   "execution_count": 127,
   "metadata": {},
   "outputs": [
    {
     "data": {
      "text/plain": [
       "Date of Travel\n",
       "2016-02-01    -8.964578\n",
       "2016-03-01   -38.108983\n",
       "2016-04-01    -1.262756\n",
       "2016-05-01    38.456215\n",
       "2016-06-01     5.745559\n",
       "Freq: MS, Name: Profit, dtype: float64"
      ]
     },
     "execution_count": 127,
     "metadata": {},
     "output_type": "execute_result"
    }
   ],
   "source": [
    "# Dropping NaN \n",
    "py = py[1:]\n",
    "py.head()"
   ]
  },
  {
   "cell_type": "markdown",
   "metadata": {},
   "source": [
    "## Time series forecasting with ARIMA"
   ]
  },
  {
   "cell_type": "markdown",
   "metadata": {},
   "source": [
    "### Parameters account for seasonality, trend, and noise in data"
   ]
  },
  {
   "cell_type": "code",
   "execution_count": 128,
   "metadata": {},
   "outputs": [
    {
     "name": "stdout",
     "output_type": "stream",
     "text": [
      "Examples of parameter combinations for Seasonal ARIMA\n",
      "SARIMAX: (0, 0, 1) x (0, 0, 1, 12)\n",
      "SARIMAX: (0, 0, 1) x (0, 1, 0, 12)\n",
      "SARIMAX: (0, 1, 0) x (0, 1, 1, 12)\n",
      "SARIMAX: (0, 1, 0) x (1, 0, 0, 12)\n"
     ]
    }
   ],
   "source": [
    "import itertools\n",
    "p = d = q = range(0, 2)\n",
    "pdq = list(itertools.product(p, d, q))\n",
    "seasonal_pdq2 = [(x[0], x[1], x[2], 12) for x in \n",
    "list(itertools.product(p, d, q))]\n",
    "print('Examples of parameter combinations for Seasonal ARIMA')\n",
    "print('SARIMAX: {} x {}'.format(pdq[1], seasonal_pdq2[1]))\n",
    "print('SARIMAX: {} x {}'.format(pdq[1], seasonal_pdq2[2]))\n",
    "print('SARIMAX: {} x {}'.format(pdq[2], seasonal_pdq2[3]))\n",
    "print('SARIMAX: {} x {}'.format(pdq[2], seasonal_pdq2[4]))"
   ]
  },
  {
   "cell_type": "markdown",
   "metadata": {},
   "source": [
    "### Parameter Selection for our profit’s ARIMA Time Series Model"
   ]
  },
  {
   "cell_type": "code",
   "execution_count": 129,
   "metadata": {},
   "outputs": [
    {
     "name": "stdout",
     "output_type": "stream",
     "text": [
      "ARIMA(0, 0, 0)x(0, 0, 0, 12)12 - AIC:323.04444756144704\n",
      "ARIMA(0, 0, 0)x(0, 0, 1, 12)12 - AIC:197.00875794979677\n",
      "ARIMA(0, 0, 0)x(0, 1, 0, 12)12 - AIC:194.141207091445\n",
      "ARIMA(0, 0, 0)x(0, 1, 1, 12)12 - AIC:75.87844680024364\n",
      "ARIMA(0, 0, 0)x(1, 0, 0, 12)12 - AIC:194.77694819710902\n",
      "ARIMA(0, 0, 0)x(1, 0, 1, 12)12 - AIC:186.62104826445088\n",
      "ARIMA(0, 0, 0)x(1, 1, 0, 12)12 - AIC:84.99051695099358\n",
      "ARIMA(0, 0, 0)x(1, 1, 1, 12)12 - AIC:77.88183279086311\n",
      "ARIMA(0, 0, 1)x(0, 0, 0, 12)12 - AIC:314.61033943404107\n",
      "ARIMA(0, 0, 1)x(0, 0, 1, 12)12 - AIC:190.99956837043783\n",
      "ARIMA(0, 0, 1)x(0, 1, 0, 12)12 - AIC:180.77201388135683\n",
      "ARIMA(0, 0, 1)x(0, 1, 1, 12)12 - AIC:65.11419798237577\n",
      "ARIMA(0, 0, 1)x(1, 0, 0, 12)12 - AIC:194.7052241748969\n",
      "ARIMA(0, 0, 1)x(1, 0, 1, 12)12 - AIC:177.23381804492482\n",
      "ARIMA(0, 0, 1)x(1, 1, 0, 12)12 - AIC:83.84403422926202\n",
      "ARIMA(0, 0, 1)x(1, 1, 1, 12)12 - AIC:68.25195310050353\n",
      "ARIMA(0, 1, 0)x(0, 0, 0, 12)12 - AIC:336.65461857477726\n",
      "ARIMA(0, 1, 0)x(0, 0, 1, 12)12 - AIC:204.7948056411114\n",
      "ARIMA(0, 1, 0)x(0, 1, 0, 12)12 - AIC:205.3355888080609\n",
      "ARIMA(0, 1, 0)x(0, 1, 1, 12)12 - AIC:80.67180222035843\n",
      "ARIMA(0, 1, 0)x(1, 0, 0, 12)12 - AIC:206.1533981443135\n",
      "ARIMA(0, 1, 0)x(1, 0, 1, 12)12 - AIC:197.70351942394137\n",
      "ARIMA(0, 1, 0)x(1, 1, 0, 12)12 - AIC:88.62579753246624\n",
      "ARIMA(0, 1, 0)x(1, 1, 1, 12)12 - AIC:82.66323835697665\n",
      "ARIMA(0, 1, 1)x(0, 0, 0, 12)12 - AIC:309.79069658089685\n",
      "ARIMA(0, 1, 1)x(0, 0, 1, 12)12 - AIC:184.9198636813415\n",
      "ARIMA(0, 1, 1)x(0, 1, 0, 12)12 - AIC:181.35308935825398\n",
      "ARIMA(0, 1, 1)x(0, 1, 1, 12)12 - AIC:65.7276418195432\n",
      "ARIMA(0, 1, 1)x(1, 0, 0, 12)12 - AIC:192.54924292388424\n",
      "ARIMA(0, 1, 1)x(1, 0, 1, 12)12 - AIC:174.93938761650708\n",
      "ARIMA(0, 1, 1)x(1, 1, 0, 12)12 - AIC:82.12974682397437\n",
      "ARIMA(0, 1, 1)x(1, 1, 1, 12)12 - AIC:69.27442153868365\n",
      "ARIMA(1, 0, 0)x(0, 0, 0, 12)12 - AIC:325.04235474562574\n",
      "ARIMA(1, 0, 0)x(0, 0, 1, 12)12 - AIC:198.88142349217136\n",
      "ARIMA(1, 0, 0)x(0, 1, 0, 12)12 - AIC:194.89125571987805\n",
      "ARIMA(1, 0, 0)x(0, 1, 1, 12)12 - AIC:68.97941188846724\n",
      "ARIMA(1, 0, 0)x(1, 0, 0, 12)12 - AIC:187.43111292235344\n",
      "ARIMA(1, 0, 0)x(1, 0, 1, 12)12 - AIC:188.06715137586755\n",
      "ARIMA(1, 0, 0)x(1, 1, 0, 12)12 - AIC:68.97943630716551\n",
      "ARIMA(1, 0, 0)x(1, 1, 1, 12)12 - AIC:71.15280894963762\n",
      "ARIMA(1, 0, 1)x(0, 0, 0, 12)12 - AIC:313.6140007178613\n",
      "ARIMA(1, 0, 1)x(0, 0, 1, 12)12 - AIC:191.65675278292449\n",
      "ARIMA(1, 0, 1)x(0, 1, 0, 12)12 - AIC:181.18772403011502\n",
      "ARIMA(1, 0, 1)x(0, 1, 1, 12)12 - AIC:55.809944738929815\n",
      "ARIMA(1, 0, 1)x(1, 0, 0, 12)12 - AIC:186.5884820510714\n",
      "ARIMA(1, 0, 1)x(1, 0, 1, 12)12 - AIC:179.21393490545677\n",
      "ARIMA(1, 0, 1)x(1, 1, 0, 12)12 - AIC:69.56617483420754\n",
      "ARIMA(1, 0, 1)x(1, 1, 1, 12)12 - AIC:56.65703167195667\n",
      "ARIMA(1, 1, 0)x(0, 0, 0, 12)12 - AIC:335.96590012137597\n",
      "ARIMA(1, 1, 0)x(0, 0, 1, 12)12 - AIC:203.405693464813\n",
      "ARIMA(1, 1, 0)x(0, 1, 0, 12)12 - AIC:197.62554130347013\n",
      "ARIMA(1, 1, 0)x(0, 1, 1, 12)12 - AIC:66.14757400417878\n",
      "ARIMA(1, 1, 0)x(1, 0, 0, 12)12 - AIC:191.66540682242018\n",
      "ARIMA(1, 1, 0)x(1, 0, 1, 12)12 - AIC:191.81558798829542\n",
      "ARIMA(1, 1, 0)x(1, 1, 0, 12)12 - AIC:66.14764403803406\n",
      "ARIMA(1, 1, 0)x(1, 1, 1, 12)12 - AIC:68.10892633951076\n",
      "ARIMA(1, 1, 1)x(0, 0, 0, 12)12 - AIC:311.7775015106766\n",
      "ARIMA(1, 1, 1)x(0, 0, 1, 12)12 - AIC:186.74834387916866\n",
      "ARIMA(1, 1, 1)x(0, 1, 0, 12)12 - AIC:182.59117625887032\n",
      "ARIMA(1, 1, 1)x(0, 1, 1, 12)12 - AIC:52.04587117625155\n",
      "ARIMA(1, 1, 1)x(1, 0, 0, 12)12 - AIC:185.050707118865\n",
      "ARIMA(1, 1, 1)x(1, 0, 1, 12)12 - AIC:176.44892088962004\n",
      "ARIMA(1, 1, 1)x(1, 1, 0, 12)12 - AIC:66.47496050613302\n",
      "ARIMA(1, 1, 1)x(1, 1, 1, 12)12 - AIC:56.604076270236234\n"
     ]
    }
   ],
   "source": [
    "import warnings\n",
    "warnings.filterwarnings(\"ignore\")\n",
    "for param in pdq:\n",
    "    for param_seasonal in seasonal_pdq2:\n",
    "        try:\n",
    "            mod2 = sm.tsa.statespace.SARIMAX(py,order=param,\n",
    "                                            seasonal_order=param_seasonal,\n",
    "                                            enforce_stationarity=False,\n",
    "                                            enforce_invertibility=False)\n",
    "            results2 = mod2.fit()\n",
    "            print('ARIMA{}x{}12 - AIC:{}'.format(param, param_seasonal, results2.aic))\n",
    "        except:\n",
    "            continue\n",
    "            "
   ]
  },
  {
   "cell_type": "markdown",
   "metadata": {},
   "source": [
    "### Inference :\n",
    "- The above output suggests that SARIMAX(1, 1, 1)x(0, 1, 1, 12) yields the lowest AIC value of 52.04. Therefore we should consider this to be optimal option."
   ]
  },
  {
   "cell_type": "markdown",
   "metadata": {},
   "source": [
    "## Fitting the ARIMA model"
   ]
  },
  {
   "cell_type": "code",
   "execution_count": 130,
   "metadata": {},
   "outputs": [],
   "source": [
    "mod2 = sm.tsa.statespace.SARIMAX(py,\n",
    "                                order=(1, 1, 1),\n",
    "                                seasonal_order=(0, 1, 1, 12),\n",
    "                                enforce_stationarity=False,\n",
    "                                enforce_invertibility=False)\n",
    "results2 = mod2.fit()\n",
    "#print(results.summary().tables[1])"
   ]
  },
  {
   "cell_type": "markdown",
   "metadata": {},
   "source": [
    "## Validating Forecasts"
   ]
  },
  {
   "cell_type": "code",
   "execution_count": 152,
   "metadata": {},
   "outputs": [
    {
     "data": {
      "text/plain": [
       "2019-01-01     16.773515\n",
       "2019-02-01     54.043157\n",
       "2019-03-01     55.209302\n",
       "2019-04-01     21.070408\n",
       "2019-05-01     40.614770\n",
       "2019-06-01     20.178522\n",
       "2019-07-01    133.938093\n",
       "2019-08-01      7.135836\n",
       "2019-09-01     29.182478\n",
       "2019-10-01     13.714464\n",
       "2019-11-01     24.767431\n",
       "2019-12-01     34.067359\n",
       "2020-01-01      2.113908\n",
       "2020-02-01     74.171817\n",
       "2020-03-01     74.147236\n",
       "2020-04-01     41.249644\n",
       "2020-05-01     21.626194\n",
       "2020-06-01      0.051421\n",
       "2020-07-01    152.977442\n",
       "2020-08-01     27.416618\n",
       "2020-09-01     10.092225\n",
       "2020-10-01     34.046216\n",
       "2020-11-01     43.908721\n",
       "2020-12-01     54.450213\n",
       "Freq: MS, Name: final, dtype: float64"
      ]
     },
     "execution_count": 152,
     "metadata": {},
     "output_type": "execute_result"
    }
   ],
   "source": [
    "pred_ci2['final']= abs(pred_ci2['lower Profit'] + pred_ci2['upper Profit'])\n",
    "#pd.DataFrame(p)\n",
    "pred_ci2['final']"
   ]
  },
  {
   "cell_type": "code",
   "execution_count": 132,
   "metadata": {},
   "outputs": [
    {
     "data": {
      "image/png": "[encoded data removed]",
      "text/plain": [
       "<Figure size 1008x504 with 1 Axes>"
      ]
     },
     "metadata": {
      "needs_background": "light"
     },
     "output_type": "display_data"
    }
   ],
   "source": [
    "pred2 = results2.get_prediction(start=pd.to_datetime('2018-01-01'), dynamic=False)\n",
    "pred_ci2 = pred2.conf_int()\n",
    "ax = py['2016':].plot(label='observed')\n",
    "pred2.predicted_mean.plot(ax=ax, label='One-step ahead Forecast', alpha=.7, figsize=(14, 7))\n",
    "ax.fill_between(pred_ci2.index,\n",
    "                pred_ci2.iloc[:, 0],\n",
    "                pred_ci2.iloc[:, 1], color='k', alpha=.2)\n",
    "ax.set_xlabel('Date of Travel')\n",
    "ax.set_ylabel('Profit')\n",
    "plt.legend()\n",
    "plt.show()"
   ]
  },
  {
   "cell_type": "markdown",
   "metadata": {},
   "source": [
    "### Inference :\n",
    "- Our forecasts align with the true values very well."
   ]
  },
  {
   "cell_type": "markdown",
   "metadata": {},
   "source": [
    "### The Mean Squared Error of our forecasts"
   ]
  },
  {
   "cell_type": "code",
   "execution_count": 134,
   "metadata": {},
   "outputs": [
    {
     "name": "stdout",
     "output_type": "stream",
     "text": [
      "The Mean Squared Error of our forecasts is 250.45\n"
     ]
    }
   ],
   "source": [
    "y_forecasted2 = pred2.predicted_mean\n",
    "y_truth2 = py['2018-01-01':]\n",
    "mse2 = ((y_forecasted2 - y_truth2) ** 2).mean()\n",
    "print('The Mean Squared Error of our forecasts is {}'.format(round(mse2, 2)))"
   ]
  },
  {
   "cell_type": "markdown",
   "metadata": {},
   "source": [
    "### The Root Mean Squared Error of our forecasts"
   ]
  },
  {
   "cell_type": "code",
   "execution_count": 135,
   "metadata": {},
   "outputs": [
    {
     "name": "stdout",
     "output_type": "stream",
     "text": [
      "The Root Mean Squared Error of our forecasts is 15.83\n"
     ]
    }
   ],
   "source": [
    "print('The Root Mean Squared Error of our forecasts is {}'.format(round(np.sqrt(mse2), 2)))"
   ]
  },
  {
   "cell_type": "markdown",
   "metadata": {},
   "source": [
    "### Inference :\n",
    "- Root Mean Square Error (RMSE) tells us that our model was able to forecast the average daily Profit for Yellow cabs in the test set within 15.83 of the real profits."
   ]
  },
  {
   "cell_type": "markdown",
   "metadata": {},
   "source": [
    "## Producing and visualizing forecasts"
   ]
  },
  {
   "cell_type": "code",
   "execution_count": 137,
   "metadata": {},
   "outputs": [
    {
     "data": {
      "image/png": "[encoded data removed]",
      "text/plain": [
       "<Figure size 1008x504 with 1 Axes>"
      ]
     },
     "metadata": {
      "needs_background": "light"
     },
     "output_type": "display_data"
    }
   ],
   "source": [
    "# Forecasts for two years for yello cab into the future\n",
    "pred_uc2 = results2.get_forecast(steps=24)\n",
    "pred_ci2 = pred_uc2.conf_int()\n",
    "ax = py.plot(label='observed', figsize=(14, 7))\n",
    "pred_uc2.predicted_mean.plot(ax=ax, label='Forecast')\n",
    "ax.fill_between(pred_ci2.index,\n",
    "                pred_ci2.iloc[:, 0],\n",
    "                pred_ci2.iloc[:, 1], color='k', alpha=.25)\n",
    "ax.set_xlabel('Date of Travel')\n",
    "ax.set_ylabel('Profit')\n",
    "plt.legend()\n",
    "plt.show()"
   ]
  },
  {
   "cell_type": "markdown",
   "metadata": {},
   "source": [
    "## Saving Pink Cab Model"
   ]
  },
  {
   "cell_type": "code",
   "execution_count": 176,
   "metadata": {},
   "outputs": [
    {
     "data": {
      "text/plain": [
       "['pink_model.pkl']"
      ]
     },
     "execution_count": 176,
     "metadata": {},
     "output_type": "execute_result"
    }
   ],
   "source": [
    "import joblib\n",
    "joblib.dump(results, 'pink_model.pkl') "
   ]
  },
  {
   "cell_type": "markdown",
   "metadata": {},
   "source": [
    "## Saving Yellow Cab Model"
   ]
  },
  {
   "cell_type": "code",
   "execution_count": 177,
   "metadata": {},
   "outputs": [
    {
     "data": {
      "text/plain": [
       "['Yellow_model.pkl']"
      ]
     },
     "execution_count": 177,
     "metadata": {},
     "output_type": "execute_result"
    }
   ],
   "source": [
    "import joblib\n",
    "joblib.dump(results2, 'Yellow_model.pkl') "
   ]
  },
  {
   "cell_type": "markdown",
   "metadata": {},
   "source": [
    "<h1 align='center' style='color:black'>  Recommendations </h1>"
   ]
  },
  {
   "cell_type": "markdown",
   "metadata": {},
   "source": [
    "##   After evaluation of both cabs the yellow one was found better than the pink one, below are some points the comparison depended on:"
   ]
  },
  {
   "cell_type": "markdown",
   "metadata": {},
   "source": [
    "### 1.\tUsers Number :  The users number of yellow cab is greater than that for pink cab.\n",
    "### 2.\tCustomers Covered by Company : The Customers number of yellow cab is greater than that for pink cab.\n",
    "### 3.\tNumber of Travels : The yellow cab has more travels than the pink cab.\n",
    "### 4.\tAge of  Customers :  All ages prefer the yellow cab than the pink one.\n",
    "### 5.\tGender of Customers : The yellow cab is extremely liked by both genders.\n",
    "### 6.\tAverage Profit per KM: The yellow cab profit in average is more than the double profit of pink.\n",
    "### 7.\tProfit per Income : The high and medium income users prefer the yellow cab.\n",
    "### 8.\tProfit Forecasting: After forecasting the profit loss the yellow cab got less loss than pink one."
   ]
  },
  {
   "cell_type": "markdown",
   "metadata": {},
   "source": [
    "##  Depending on the above comparison we found that the yellow cab is better than the pink cab."
   ]
  },
  {
   "cell_type": "code",
   "execution_count": null,
   "metadata": {},
   "outputs": [],
   "source": []
  },
  {
   "cell_type": "code",
   "execution_count": null,
   "metadata": {},
   "outputs": [],
   "source": []
  },
  {
   "cell_type": "code",
   "execution_count": null,
   "metadata": {},
   "outputs": [],
   "source": []
  },
  {
   "cell_type": "code",
   "execution_count": null,
   "metadata": {},
   "outputs": [],
   "source": []
  },
  {
   "cell_type": "code",
   "execution_count": null,
   "metadata": {},
   "outputs": [],
   "source": []
  },
  {
   "cell_type": "code",
   "execution_count": null,
   "metadata": {},
   "outputs": [],
   "source": []
  },
  {
   "cell_type": "code",
   "execution_count": null,
   "metadata": {},
   "outputs": [],
   "source": []
  },
  {
   "cell_type": "code",
   "execution_count": null,
   "metadata": {},
   "outputs": [],
   "source": []
  },
  {
   "cell_type": "code",
   "execution_count": null,
   "metadata": {},
   "outputs": [],
   "source": []
  },
  {
   "cell_type": "code",
   "execution_count": null,
   "metadata": {},
   "outputs": [],
   "source": []
  },
  {
   "cell_type": "code",
   "execution_count": null,
   "metadata": {},
   "outputs": [],
   "source": []
  },
  {
   "cell_type": "code",
   "execution_count": null,
   "metadata": {},
   "outputs": [],
   "source": []
  },
  {
   "cell_type": "code",
   "execution_count": null,
   "metadata": {},
   "outputs": [],
   "source": []
  },
  {
   "cell_type": "code",
   "execution_count": null,
   "metadata": {},
   "outputs": [],
   "source": []
  },
  {
   "cell_type": "code",
   "execution_count": null,
   "metadata": {},
   "outputs": [],
   "source": []
  },
  {
   "cell_type": "code",
   "execution_count": null,
   "metadata": {},
   "outputs": [],
   "source": []
  }
 ],
 "metadata": {
  "kernelspec": {
   "display_name": "Python 3",
   "language": "python",
   "name": "python3"
  },
  "language_info": {
   "codemirror_mode": {
    "name": "ipython",
    "version": 3
   },
   "file_extension": ".py",
   "mimetype": "text/x-python",
   "name": "python",
   "nbconvert_exporter": "python",
   "pygments_lexer": "ipython3",
   "version": "3.7.7"
  }
 },
 "nbformat": 4,
 "nbformat_minor": 4
}
